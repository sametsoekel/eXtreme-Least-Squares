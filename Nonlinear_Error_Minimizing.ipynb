{
 "cells": [
  {
   "cell_type": "code",
   "execution_count": 2,
   "id": "9ad8c788-f423-4b29-8d49-c5318ddbc1d6",
   "metadata": {},
   "outputs": [],
   "source": [
    "library(dplyr)\n",
    "library(NlcOptim)\n",
    "\n",
    "\n",
    "dummy_data <- head(iris,10) %>%\n",
    "dplyr::select(-Species) %>%\n",
    "mutate(intercept=1) %>% \n",
    "relocate(intercept,.before=Petal.Width)\n",
    "\n",
    "rownames(dummy_data) <- NULL\n",
    "\n",
    "varnum <- ncol(dummy_data) - 1\n",
    "\n",
    "coefname <- LETTERS[1:varnum]"
   ]
  },
  {
   "cell_type": "code",
   "execution_count": 3,
   "id": "60c8296c-3044-4023-85e9-58425bc30a86",
   "metadata": {},
   "outputs": [
    {
     "data": {
      "text/html": [
       "'( A*5.1 + B*3.5 + C*1.4 + D*1 -0.2)^2 + ( A*4.9 + B*3 + C*1.4 + D*1 -0.2)^2 + ( A*4.7 + B*3.2 + C*1.3 + D*1 -0.2)^2 + ( A*4.6 + B*3.1 + C*1.5 + D*1 -0.2)^2 + ( A*5 + B*3.6 + C*1.4 + D*1 -0.2)^2 + ( A*5.4 + B*3.9 + C*1.7 + D*1 -0.4)^2 + ( A*4.6 + B*3.4 + C*1.4 + D*1 -0.3)^2 + ( A*5 + B*3.4 + C*1.5 + D*1 -0.2)^2 + ( A*4.4 + B*2.9 + C*1.4 + D*1 -0.2)^2 + ( A*4.9 + B*3.1 + C*1.5 + D*1 -0.1)^2'"
      ],
      "text/latex": [
       "'( A*5.1 + B*3.5 + C*1.4 + D*1 -0.2)\\textasciicircum{}2 + ( A*4.9 + B*3 + C*1.4 + D*1 -0.2)\\textasciicircum{}2 + ( A*4.7 + B*3.2 + C*1.3 + D*1 -0.2)\\textasciicircum{}2 + ( A*4.6 + B*3.1 + C*1.5 + D*1 -0.2)\\textasciicircum{}2 + ( A*5 + B*3.6 + C*1.4 + D*1 -0.2)\\textasciicircum{}2 + ( A*5.4 + B*3.9 + C*1.7 + D*1 -0.4)\\textasciicircum{}2 + ( A*4.6 + B*3.4 + C*1.4 + D*1 -0.3)\\textasciicircum{}2 + ( A*5 + B*3.4 + C*1.5 + D*1 -0.2)\\textasciicircum{}2 + ( A*4.4 + B*2.9 + C*1.4 + D*1 -0.2)\\textasciicircum{}2 + ( A*4.9 + B*3.1 + C*1.5 + D*1 -0.1)\\textasciicircum{}2'"
      ],
      "text/markdown": [
       "'( A*5.1 + B*3.5 + C*1.4 + D*1 -0.2)^2 + ( A*4.9 + B*3 + C*1.4 + D*1 -0.2)^2 + ( A*4.7 + B*3.2 + C*1.3 + D*1 -0.2)^2 + ( A*4.6 + B*3.1 + C*1.5 + D*1 -0.2)^2 + ( A*5 + B*3.6 + C*1.4 + D*1 -0.2)^2 + ( A*5.4 + B*3.9 + C*1.7 + D*1 -0.4)^2 + ( A*4.6 + B*3.4 + C*1.4 + D*1 -0.3)^2 + ( A*5 + B*3.4 + C*1.5 + D*1 -0.2)^2 + ( A*4.4 + B*2.9 + C*1.4 + D*1 -0.2)^2 + ( A*4.9 + B*3.1 + C*1.5 + D*1 -0.1)^2'"
      ],
      "text/plain": [
       "[1] \"( A*5.1 + B*3.5 + C*1.4 + D*1 -0.2)^2 + ( A*4.9 + B*3 + C*1.4 + D*1 -0.2)^2 + ( A*4.7 + B*3.2 + C*1.3 + D*1 -0.2)^2 + ( A*4.6 + B*3.1 + C*1.5 + D*1 -0.2)^2 + ( A*5 + B*3.6 + C*1.4 + D*1 -0.2)^2 + ( A*5.4 + B*3.9 + C*1.7 + D*1 -0.4)^2 + ( A*4.6 + B*3.4 + C*1.4 + D*1 -0.3)^2 + ( A*5 + B*3.4 + C*1.5 + D*1 -0.2)^2 + ( A*4.4 + B*2.9 + C*1.4 + D*1 -0.2)^2 + ( A*4.9 + B*3.1 + C*1.5 + D*1 -0.1)^2\""
      ]
     },
     "metadata": {},
     "output_type": "display_data"
    }
   ],
   "source": [
    "dummy_data %>% \n",
    "mutate(error = sprintf(paste0(paste0(rep(' %s*%s ',varnum),collapse = '+'),'-',Petal.Width),coefname[1],Sepal.Length,coefname[2],Sepal.Width,coefname[3],Petal.Length,coefname[4],intercept)) %>% \n",
    "mutate(error_sqrd = sprintf('(%s)^2',error)) %>% \n",
    "dplyr::select(error_sqrd) %>% \n",
    "pull %>% \n",
    "paste0(collapse = ' + ') -> objfun_chr\n",
    "\n",
    "objfun_chr"
   ]
  },
  {
   "cell_type": "code",
   "execution_count": 4,
   "id": "2c6a3d34-85eb-4d85-9e3b-fef9ce16932d",
   "metadata": {},
   "outputs": [],
   "source": [
    "newname <- paste0('x[',1:varnum,']')\n",
    "\n",
    "oldname <- coefname\n",
    "\n",
    "for(i in 1:length(newname)){\n",
    "    objfun_chr <- gsub(oldname[i],newname[i],objfun_chr)\n",
    "}"
   ]
  },
  {
   "cell_type": "code",
   "execution_count": 5,
   "id": "c85f966f-a62c-4429-910a-065b0e45eff0",
   "metadata": {},
   "outputs": [],
   "source": [
    "args <- \"x\"\n",
    "\n",
    "eval(parse(text = paste('objfun_real <- function(', args, ') { return(' , objfun_chr , ')}', sep='')))"
   ]
  },
  {
   "cell_type": "code",
   "execution_count": 6,
   "id": "517beb1e-2e13-4e87-8f41-c5e050cc2e41",
   "metadata": {},
   "outputs": [
    {
     "data": {
      "text/plain": [
       "\n",
       "Call:\n",
       "lm(formula = Petal.Width ~ Sepal.Length + Sepal.Width + Petal.Length, \n",
       "    data = dummy_data)\n",
       "\n",
       "Coefficients:\n",
       " (Intercept)  Sepal.Length   Sepal.Width  Petal.Length  \n",
       "     -0.2041       -0.1654        0.2456        0.2862  \n"
      ]
     },
     "metadata": {},
     "output_type": "display_data"
    }
   ],
   "source": [
    "lm(Petal.Width ~ Sepal.Length + Sepal.Width + Petal.Length,dummy_data)"
   ]
  },
  {
   "cell_type": "code",
   "execution_count": 7,
   "id": "2f720fc4-a5cd-4edf-a9f7-1aca0c42cee9",
   "metadata": {},
   "outputs": [
    {
     "name": "stderr",
     "output_type": "stream",
     "text": [
      "Warning message in cbind(LAMBDA, 0.5 * (LAMBDA + LAMBDA_old)):\n",
      "“number of rows of result is not a multiple of vector length (arg 1)”\n"
     ]
    }
   ],
   "source": [
    "a <- solnl(X = c(0,0,0,0),objfun = objfun_real)"
   ]
  },
  {
   "cell_type": "code",
   "execution_count": 11,
   "id": "d59edb9d-3d30-4cdf-b1cc-93deb046ca10",
   "metadata": {},
   "outputs": [
    {
     "data": {
      "text/html": [
       "<table class=\"dataframe\">\n",
       "<caption>A matrix: 4 × 1 of type dbl</caption>\n",
       "<tbody>\n",
       "\t<tr><td>-0.1653329</td></tr>\n",
       "\t<tr><td> 0.2455500</td></tr>\n",
       "\t<tr><td> 0.2861829</td></tr>\n",
       "\t<tr><td>-0.2042177</td></tr>\n",
       "</tbody>\n",
       "</table>\n"
      ],
      "text/latex": [
       "A matrix: 4 × 1 of type dbl\n",
       "\\begin{tabular}{l}\n",
       "\t -0.1653329\\\\\n",
       "\t  0.2455500\\\\\n",
       "\t  0.2861829\\\\\n",
       "\t -0.2042177\\\\\n",
       "\\end{tabular}\n"
      ],
      "text/markdown": [
       "\n",
       "A matrix: 4 × 1 of type dbl\n",
       "\n",
       "| -0.1653329 |\n",
       "|  0.2455500 |\n",
       "|  0.2861829 |\n",
       "| -0.2042177 |\n",
       "\n"
      ],
      "text/plain": [
       "     [,1]      \n",
       "[1,] -0.1653329\n",
       "[2,]  0.2455500\n",
       "[3,]  0.2861829\n",
       "[4,] -0.2042177"
      ]
     },
     "metadata": {},
     "output_type": "display_data"
    }
   ],
   "source": [
    "a$par"
   ]
  },
  {
   "cell_type": "markdown",
   "id": "bac589f1-ce98-45a5-ba9c-9b8eca0a56f9",
   "metadata": {},
   "source": [
    "GOT THE SAME COEFFICIENTS WITH NONLINEAR OPTIMIZATION.\n",
    "\n",
    "END OF THE DAY !"
   ]
  }
 ],
 "metadata": {
  "kernelspec": {
   "display_name": "R",
   "language": "R",
   "name": "ir"
  },
  "language_info": {
   "codemirror_mode": "r",
   "file_extension": ".r",
   "mimetype": "text/x-r-source",
   "name": "R",
   "pygments_lexer": "r",
   "version": "4.1.2"
  }
 },
 "nbformat": 4,
 "nbformat_minor": 5
}
