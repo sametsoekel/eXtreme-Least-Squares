{
 "cells": [
  {
   "cell_type": "code",
   "execution_count": 115,
   "id": "c79a5795-c1aa-496d-8456-3f82622d77f7",
   "metadata": {},
   "outputs": [],
   "source": [
    "xls.prep <- function(formula,data,dependent_var){\n",
    "    \n",
    "    matrix.baked <- stats::model.matrix(formula,data)\n",
    "    \n",
    "    df.baked <- base::as.data.frame(matrix.baked)\n",
    "    \n",
    "    base::rm(matrix.baked)\n",
    "    \n",
    "    varnum <- base::ncol(df.baked)\n",
    "    \n",
    "    varnames <- base::colnames(df.baked)\n",
    "    \n",
    "    coefnames <- base::paste0('x[',1:varnum,']')\n",
    "    \n",
    "    regformat <- base::paste(base::rep('%s*%s',varnum),collapse = ' + ')\n",
    "    \n",
    "    coef_var_match <- NULL\n",
    "    \n",
    "    for(i in 1:varnum){\n",
    "        coef_var_match[i] <- base::sprintf('\"%s\",df.baked[[\"%s\"]]',coefnames[i],varnames[i])\n",
    "    }\n",
    "    \n",
    "    coef_var_match <- base::paste(coef_var_match,collapse = ',')\n",
    "    \n",
    "    symbolic_error_calculation <- base::sprintf('base::sprintf(\"%s\",%s)',regformat,coef_var_match)\n",
    "    \n",
    "    base::eval(base::parse(text = base::sprintf('df.baked[[\"error_symbolic\"]] <- %s',symbolic_error_calculation)))\n",
    "    \n",
    "    df.baked[[\"error_symbolic\"]] <- base::sprintf('(%s - %s)^2',df.baked[[\"error_symbolic\"]],data[[dependent_var]])\n",
    "\n",
    "    base::list(data=df.baked,independent_var=varnames)\n",
    "\n",
    "}"
   ]
  },
  {
   "cell_type": "code",
   "execution_count": 116,
   "id": "57827c7e-18f1-4feb-a344-e391c73207d2",
   "metadata": {},
   "outputs": [],
   "source": [
    "xls.objfun <- function(data,error_column_name,args,error_weights,error_ahead_level){\n",
    "    \n",
    "    df <- data\n",
    "    \n",
    "    sample_size <- nrow(df)\n",
    "    \n",
    "    df$ahead_error_symbolic <- base::sapply(\n",
    "      1:sample_size,\n",
    "      function(x) paste(df[[error_column_name]][x:min(x+error_ahead_level-1, sample_size)], collapse = \" add \")\n",
    "    )\n",
    "    \n",
    "    df$ahead_num <- sapply(strsplit(df$ahead_error_symbolic,split = ' add '),length)\n",
    "    \n",
    "    df <- subset(df,ahead_num == error_ahead_level)\n",
    "    \n",
    "    df$ahead_error_symbolic <- strsplit(df$ahead_error_symbolic,' add ')\n",
    "    \n",
    "    new_sample_size <- nrow(df)\n",
    "    \n",
    "    df$error_weights <- rep(list(error_weights),new_sample_size)\n",
    "    \n",
    "    new_error_column <- paste0(error_column_name,'_weighted')\n",
    "    \n",
    "    df[[new_error_column]] <- mapply(\n",
    "      paste,\n",
    "      df$error_weights,\n",
    "      df$ahead_error_symbolic,\n",
    "      sep = \"*\",\n",
    "      collapse = \" + \"\n",
    "    )\n",
    "\n",
    "    sum_of_errors <- base::paste(df[[new_error_column]],collapse = ' + ')\n",
    "    \n",
    "    multivariate_sse <- base::gsub(\"x\\\\[(\\\\d)\\\\]\", \"x\\\\1\", sum_of_errors)\n",
    "    \n",
    "    base::suppressMessages({polynomial_sse <-  mpoly::mp(multivariate_sse, stars = TRUE)})\n",
    "    \n",
    "    base::suppressMessages({objfun <-  base::as.function(polynomial_sse, varorder = base::sort(mpoly::vars(polynomial_sse)))})\n",
    "    \n",
    "    base::list(objective = objfun,sum_of_errors = sum_of_errors)\n",
    "}"
   ]
  },
  {
   "cell_type": "code",
   "execution_count": 117,
   "id": "b0a6cd7d-0402-417f-b77b-79fe6d4f81e1",
   "metadata": {},
   "outputs": [],
   "source": [
    "xls.fit <- function(formula,\n",
    "                    data,\n",
    "                    lag_level=1,\n",
    "                    error_weights = NULL,\n",
    "                    error_ahead_level=4){\n",
    "    \n",
    "    if(base::nrow(data) < error_ahead_level){\n",
    "        \n",
    "        base::stop('The number of observations must be greater than error ahead level.')\n",
    "        \n",
    "    }\n",
    "    \n",
    "    dependent_var <- base::all.vars(formula)[1]\n",
    "    \n",
    "    if(base::is.null(error_weights)){\n",
    "        \n",
    "        dummy_weights <- base::seq(from = 0,to = 1,length.out = error_ahead_level + 1)\n",
    "        error_weights <- dummy_weights[-1]/base::sum(dummy_weights[-1])\n",
    "        error_weights <- rev(error_weights)\n",
    "        base::rm(dummy_weights)\n",
    "        \n",
    "    }else if(base::length(error_weights) != error_ahead_level){\n",
    "        \n",
    "        base::stop('Error weights should have same length with ahead level.')\n",
    "        \n",
    "    }else if(base::sum(error_weights) != 1){\n",
    "        \n",
    "        base::stop('The sum of the error weights must be 1.')\n",
    "        \n",
    "    }\n",
    "    \n",
    "    prepared_obj <- xls.prep(formula,data,dependent_var)\n",
    "    \n",
    "    df <- prepared_obj$data\n",
    "    \n",
    "    independent_var <- prepared_obj$independent_var\n",
    "    \n",
    "    initial_solution <- base::rep(0,base::length(independent_var))\n",
    "\n",
    "    objfun_object <- xls.objfun(data = df,error_column_name = 'error_symbolic',\n",
    "                                args = 'x',error_weights = error_weights, error_ahead_level = error_ahead_level)\n",
    "    \n",
    "    objfun <- objfun_object$objective\n",
    "\n",
    "    optimizing_parameters <- stats::optim(par = initial_solution,fn = objfun)\n",
    "    \n",
    "    coefficients <- base::as.data.frame(optimizing_parameters$par)\n",
    "    \n",
    "    base::colnames(coefficients) <- 'coef'\n",
    "    \n",
    "    base::rownames(coefficients) <- independent_var\n",
    "\n",
    "    dummy_model <- stats::lm(formula,data)\n",
    "    \n",
    "    coefficients_vec <- coefficients$coef\n",
    "    \n",
    "    names(coefficients_vec) <- base::rownames(coefficients)\n",
    "    \n",
    "    dummy_model <- stats::lm(formula = formula,data = data)\n",
    "    \n",
    "    dummy_model$coefficients <- coefficients_vec\n",
    "    \n",
    "    dataname <- rlang::sym(base::deparse(base::substitute(data)))\n",
    "    \n",
    "    dummy_model$call <- base::call('xls.fit',formula = formula,data = dataname,error_weights = error_weights,error_ahead_level = error_ahead_level)\n",
    "    \n",
    "    dummy_model\n",
    "\n",
    "}"
   ]
  },
  {
   "cell_type": "code",
   "execution_count": 118,
   "id": "5b4683c7-9092-4bf2-b1c4-6fc7b290c5a8",
   "metadata": {},
   "outputs": [
    {
     "data": {
      "text/plain": [
       "\n",
       "Call:\n",
       "xls.fit(formula = Sepal.Width ~ Petal.Length, data = iris, error_weights = c(0.4, \n",
       "0.3, 0.2, 0.1), error_ahead_level = 4)\n",
       "\n",
       "Coefficients:\n",
       " (Intercept)  Petal.Length  \n",
       "      3.4569       -0.1073  \n"
      ]
     },
     "metadata": {},
     "output_type": "display_data"
    }
   ],
   "source": [
    "xls.fit(Sepal.Width ~ Petal.Length,iris,error_weights = c(0.4,0.3,0.2,0.1),error_ahead_level = 4)"
   ]
  },
  {
   "cell_type": "code",
   "execution_count": 96,
   "id": "f7ce58a9-1315-4534-8b05-7bf12a5aa182",
   "metadata": {},
   "outputs": [
    {
     "data": {
      "text/html": [
       "'iris'"
      ],
      "text/latex": [
       "'iris'"
      ],
      "text/markdown": [
       "'iris'"
      ],
      "text/plain": [
       "[1] \"iris\""
      ]
     },
     "metadata": {},
     "output_type": "display_data"
    }
   ],
   "source": [
    "base::lm"
   ]
  },
  {
   "cell_type": "code",
   "execution_count": 27,
   "id": "9df92ac8-dc6a-4afb-9071-c0d7740d0616",
   "metadata": {},
   "outputs": [],
   "source": [
    "a <- lm(Sepal.Width ~ Petal.Length,iris)"
   ]
  },
  {
   "cell_type": "code",
   "execution_count": 37,
   "id": "474ad1f3-612a-45d7-bcdb-cb2d89551bb6",
   "metadata": {},
   "outputs": [],
   "source": [
    "ar <- capture.output(dput(a))"
   ]
  },
  {
   "cell_type": "code",
   "execution_count": 39,
   "id": "6c0e8a98-0dc2-4e9c-8644-928c6bd7441e",
   "metadata": {},
   "outputs": [],
   "source": [
    "are <- eval(parse(text=paste(ar,collapse = '')))"
   ]
  },
  {
   "cell_type": "code",
   "execution_count": 52,
   "id": "7e2ad321-6f88-4a27-85db-219551059a7c",
   "metadata": {},
   "outputs": [],
   "source": [
    "a$call <- call(\"xls.fit\", Sepal.Length ~ Petal.Length, \n",
    "                   data=quote(iris), foo=NULL)"
   ]
  },
  {
   "cell_type": "code",
   "execution_count": 55,
   "id": "d91ce8e7-58d0-425a-91b5-8b6a45a97263",
   "metadata": {},
   "outputs": [
    {
     "data": {
      "text/plain": [
       "\n",
       "Call:\n",
       "xls.fit(Sepal.Length ~ Petal.Length, data = iris, foo = NULL)\n",
       "\n",
       "Coefficients:\n",
       " (Intercept)  Petal.Length  \n",
       "      3.4549       -0.1058  \n"
      ]
     },
     "metadata": {},
     "output_type": "display_data"
    }
   ],
   "source": [
    "call()"
   ]
  }
 ],
 "metadata": {
  "kernelspec": {
   "display_name": "R",
   "language": "R",
   "name": "ir"
  },
  "language_info": {
   "codemirror_mode": "r",
   "file_extension": ".r",
   "mimetype": "text/x-r-source",
   "name": "R",
   "pygments_lexer": "r",
   "version": "4.1.2"
  }
 },
 "nbformat": 4,
 "nbformat_minor": 5
}
