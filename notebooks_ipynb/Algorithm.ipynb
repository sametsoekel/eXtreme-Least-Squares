{
 "cells": [
  {
   "cell_type": "code",
   "execution_count": 115,
   "id": "c79a5795-c1aa-496d-8456-3f82622d77f7",
   "metadata": {},
   "outputs": [],
   "source": [
    "xls.prep <- function(formula,data,dependent_var){\n",
    "    \n",
    "    matrix.baked <- stats::model.matrix(formula,data)\n",
    "    \n",
    "    df.baked <- base::as.data.frame(matrix.baked)\n",
    "    \n",
    "    base::rm(matrix.baked)\n",
    "    \n",
    "    varnum <- base::ncol(df.baked)\n",
    "    \n",
    "    varnames <- base::colnames(df.baked)\n",
    "    \n",
    "    coefnames <- base::paste0('x[',1:varnum,']')\n",
    "    \n",
    "    regformat <- base::paste(base::rep('%s*%s',varnum),collapse = ' + ')\n",
    "    \n",
    "    coef_var_match <- NULL\n",
    "    \n",
    "    for(i in 1:varnum){\n",
    "        coef_var_match[i] <- base::sprintf('\"%s\",df.baked[[\"%s\"]]',coefnames[i],varnames[i])\n",
    "    }\n",
    "    \n",
    "    coef_var_match <- base::paste(coef_var_match,collapse = ',')\n",
    "    \n",
    "    symbolic_error_calculation <- base::sprintf('base::sprintf(\"%s\",%s)',regformat,coef_var_match)\n",
    "    \n",
    "    base::eval(base::parse(text = base::sprintf('df.baked[[\"error_symbolic\"]] <- %s',symbolic_error_calculation)))\n",
    "    \n",
    "    df.baked[[\"error_symbolic\"]] <- base::sprintf('(%s - %s)^2',df.baked[[\"error_symbolic\"]],data[[dependent_var]])\n",
    "\n",
    "    base::list(data=df.baked,independent_var=varnames)\n",
    "\n",
    "}"
   ]
  },
  {
   "cell_type": "code",
   "execution_count": 116,
   "id": "57827c7e-18f1-4feb-a344-e391c73207d2",
   "metadata": {},
   "outputs": [],
   "source": [
    "xls.objfun <- function(data,error_column_name,args,error_weights,error_ahead_level){\n",
    "    \n",
    "    df <- data\n",
    "    \n",
    "    sample_size <- nrow(df)\n",
    "    \n",
    "    df$ahead_error_symbolic <- base::sapply(\n",
    "      1:sample_size,\n",
    "      function(x) paste(df[[error_column_name]][x:min(x+error_ahead_level-1, sample_size)], collapse = \" add \")\n",
    "    )\n",
    "    \n",
    "    df$ahead_num <- sapply(strsplit(df$ahead_error_symbolic,split = ' add '),length)\n",
    "    \n",
    "    df <- subset(df,ahead_num == error_ahead_level)\n",
    "    \n",
    "    df$ahead_error_symbolic <- strsplit(df$ahead_error_symbolic,' add ')\n",
    "    \n",
    "    new_sample_size <- nrow(df)\n",
    "    \n",
    "    df$error_weights <- rep(list(error_weights),new_sample_size)\n",
    "    \n",
    "    new_error_column <- paste0(error_column_name,'_weighted')\n",
    "    \n",
    "    df[[new_error_column]] <- mapply(\n",
    "      paste,\n",
    "      df$error_weights,\n",
    "      df$ahead_error_symbolic,\n",
    "      sep = \"*\",\n",
    "      collapse = \" + \"\n",
    "    )\n",
    "\n",
    "    sum_of_errors <- base::paste(df[[new_error_column]],collapse = ' + ')\n",
    "    \n",
    "    multivariate_sse <- base::gsub(\"x\\\\[(\\\\d)\\\\]\", \"x\\\\1\", sum_of_errors)\n",
    "    \n",
    "    base::suppressMessages({polynomial_sse <-  mpoly::mp(multivariate_sse, stars = TRUE)})\n",
    "    \n",
    "    base::suppressMessages({objfun <-  base::as.function(polynomial_sse, varorder = base::sort(mpoly::vars(polynomial_sse)))})\n",
    "    \n",
    "    base::list(objective = objfun,sum_of_errors = sum_of_errors)\n",
    "}"
   ]
  },
  {
   "cell_type": "code",
   "execution_count": 117,
   "id": "b0a6cd7d-0402-417f-b77b-79fe6d4f81e1",
   "metadata": {},
   "outputs": [],
   "source": [
    "xls.fit <- function(formula,\n",
    "                    data,\n",
    "                    lag_level=1,\n",
    "                    error_weights = NULL,\n",
    "                    error_ahead_level=4){\n",
    "    \n",
    "    if(base::nrow(data) < error_ahead_level){\n",
    "        \n",
    "        base::stop('The number of observations must be greater than error ahead level.')\n",
    "        \n",
    "    }\n",
    "    \n",
    "    dependent_var <- base::all.vars(formula)[1]\n",
    "    \n",
    "    if(base::is.null(error_weights)){\n",
    "        \n",
    "        dummy_weights <- base::seq(from = 0,to = 1,length.out = error_ahead_level + 1)\n",
    "        error_weights <- dummy_weights[-1]/base::sum(dummy_weights[-1])\n",
    "        error_weights <- rev(error_weights)\n",
    "        base::rm(dummy_weights)\n",
    "        \n",
    "    }else if(base::length(error_weights) != error_ahead_level){\n",
    "        \n",
    "        base::stop('Error weights should have same length with ahead level.')\n",
    "        \n",
    "    }else if(base::sum(error_weights) != 1){\n",
    "        \n",
    "        base::stop('The sum of the error weights must be 1.')\n",
    "        \n",
    "    }\n",
    "    \n",
    "    prepared_obj <- xls.prep(formula,data,dependent_var)\n",
    "    \n",
    "    df <- prepared_obj$data\n",
    "    \n",
    "    independent_var <- prepared_obj$independent_var\n",
    "    \n",
    "    initial_solution <- base::rep(0,base::length(independent_var))\n",
    "\n",
    "    objfun_object <- xls.objfun(data = df,error_column_name = 'error_symbolic',\n",
    "                                args = 'x',error_weights = error_weights, error_ahead_level = error_ahead_level)\n",
    "    \n",
    "    objfun <- objfun_object$objective\n",
    "\n",
    "    optimizing_parameters <- stats::optim(par = initial_solution,fn = objfun)\n",
    "    \n",
    "    coefficients <- base::as.data.frame(optimizing_parameters$par)\n",
    "    \n",
    "    base::colnames(coefficients) <- 'coef'\n",
    "    \n",
    "    base::rownames(coefficients) <- independent_var\n",
    "\n",
    "    dummy_model <- stats::lm(formula,data)\n",
    "    \n",
    "    coefficients_vec <- coefficients$coef\n",
    "    \n",
    "    names(coefficients_vec) <- base::rownames(coefficients)\n",
    "    \n",
    "    dummy_model <- stats::lm(formula = formula,data = data)\n",
    "    \n",
    "    dummy_model$coefficients <- coefficients_vec\n",
    "    \n",
    "    dataname <- rlang::sym(base::deparse(base::substitute(data)))\n",
    "    \n",
    "    dummy_model$call <- base::call('xls.fit',formula = formula,data = dataname,error_weights = error_weights,error_ahead_level = error_ahead_level)\n",
    "    \n",
    "    dummy_model\n",
    "\n",
    "}"
   ]
  },
  {
   "cell_type": "code",
   "execution_count": 118,
   "id": "5b4683c7-9092-4bf2-b1c4-6fc7b290c5a8",
   "metadata": {},
   "outputs": [
    {
     "data": {
      "text/plain": [
       "\n",
       "Call:\n",
       "xls.fit(formula = Sepal.Width ~ Petal.Length, data = iris, error_weights = c(0.4, \n",
       "0.3, 0.2, 0.1), error_ahead_level = 4)\n",
       "\n",
       "Coefficients:\n",
       " (Intercept)  Petal.Length  \n",
       "      3.4569       -0.1073  \n"
      ]
     },
     "metadata": {},
     "output_type": "display_data"
    }
   ],
   "source": [
    "xls.fit(Sepal.Width ~ Petal.Length,iris,error_weights = c(0.4,0.3,0.2,0.1),error_ahead_level = 4)"
   ]
  },
  {
   "cell_type": "code",
   "execution_count": 96,
   "id": "f7ce58a9-1315-4534-8b05-7bf12a5aa182",
   "metadata": {},
   "outputs": [
    {
     "data": {
      "text/html": [
       "'iris'"
      ],
      "text/latex": [
       "'iris'"
      ],
      "text/markdown": [
       "'iris'"
      ],
      "text/plain": [
       "[1] \"iris\""
      ]
     },
     "metadata": {},
     "output_type": "display_data"
    }
   ],
   "source": [
    "base::lm"
   ]
  },
  {
   "cell_type": "code",
   "execution_count": 27,
   "id": "9df92ac8-dc6a-4afb-9071-c0d7740d0616",
   "metadata": {},
   "outputs": [],
   "source": [
    "a <- lm(Sepal.Width ~ Petal.Length,iris)"
   ]
  },
  {
   "cell_type": "code",
   "execution_count": 37,
   "id": "474ad1f3-612a-45d7-bcdb-cb2d89551bb6",
   "metadata": {},
   "outputs": [],
   "source": [
    "ar <- capture.output(dput(a))"
   ]
  },
  {
   "cell_type": "code",
   "execution_count": 39,
   "id": "6c0e8a98-0dc2-4e9c-8644-928c6bd7441e",
   "metadata": {},
   "outputs": [],
   "source": [
    "are <- eval(parse(text=paste(ar,collapse = '')))"
   ]
  },
  {
   "cell_type": "code",
   "execution_count": 52,
   "id": "7e2ad321-6f88-4a27-85db-219551059a7c",
   "metadata": {},
   "outputs": [],
   "source": [
    "a$call <- call(\"xls.fit\", Sepal.Length ~ Petal.Length, \n",
    "                   data=quote(iris), foo=NULL)"
   ]
  },
  {
   "cell_type": "code",
   "execution_count": 55,
   "id": "d91ce8e7-58d0-425a-91b5-8b6a45a97263",
   "metadata": {},
   "outputs": [
    {
     "data": {
      "text/plain": [
       "\n",
       "Call:\n",
       "xls.fit(Sepal.Length ~ Petal.Length, data = iris, foo = NULL)\n",
       "\n",
       "Coefficients:\n",
       " (Intercept)  Petal.Length  \n",
       "      3.4549       -0.1058  \n"
      ]
     },
     "metadata": {},
     "output_type": "display_data"
    }
   ],
   "source": [
    "call()"
   ]
  },
  {
   "cell_type": "markdown",
   "id": "eea29405-96b4-45e2-88b2-720c25b7f470",
   "metadata": {},
   "source": [
    "    ---------"
   ]
  },
  {
   "cell_type": "code",
   "execution_count": 6,
   "id": "59554098-58af-4809-a735-ce661b7108f5",
   "metadata": {},
   "outputs": [],
   "source": [
    "library(data.table)"
   ]
  },
  {
   "cell_type": "code",
   "execution_count": 10,
   "id": "956169ae-2e28-41b3-bc17-e1db218a6718",
   "metadata": {},
   "outputs": [],
   "source": [
    "DF <- data.table(Var2 = c(1,1,0,0,1),Var3 = c(24,18,5,16,12),Y = c(4,15,8,13,18))"
   ]
  },
  {
   "cell_type": "code",
   "execution_count": 11,
   "id": "8db12739-7449-41be-8c0e-1b7dc4c18acd",
   "metadata": {},
   "outputs": [],
   "source": [
    "DF[, Var1 := shift(Y,n = 1)]\n",
    "\n",
    "DF <- DF[,.SD,.SDcols = c('Var1','Var2','Var3','Y')]\n",
    "\n",
    "DF <- na.omit(DF)"
   ]
  },
  {
   "cell_type": "code",
   "execution_count": 12,
   "id": "ca9c8fdc-7591-4ad4-86a6-64f7ce8964a3",
   "metadata": {},
   "outputs": [
    {
     "data": {
      "text/html": [
       "<table class=\"dataframe\">\n",
       "<caption>A data.table: 4 × 4</caption>\n",
       "<thead>\n",
       "\t<tr><th scope=col>Var1</th><th scope=col>Var2</th><th scope=col>Var3</th><th scope=col>Y</th></tr>\n",
       "\t<tr><th scope=col>&lt;dbl&gt;</th><th scope=col>&lt;dbl&gt;</th><th scope=col>&lt;dbl&gt;</th><th scope=col>&lt;dbl&gt;</th></tr>\n",
       "</thead>\n",
       "<tbody>\n",
       "\t<tr><td> 4</td><td>1</td><td>18</td><td>15</td></tr>\n",
       "\t<tr><td>15</td><td>0</td><td> 5</td><td> 8</td></tr>\n",
       "\t<tr><td> 8</td><td>0</td><td>16</td><td>13</td></tr>\n",
       "\t<tr><td>13</td><td>1</td><td>12</td><td>18</td></tr>\n",
       "</tbody>\n",
       "</table>\n"
      ],
      "text/latex": [
       "A data.table: 4 × 4\n",
       "\\begin{tabular}{llll}\n",
       " Var1 & Var2 & Var3 & Y\\\\\n",
       " <dbl> & <dbl> & <dbl> & <dbl>\\\\\n",
       "\\hline\n",
       "\t  4 & 1 & 18 & 15\\\\\n",
       "\t 15 & 0 &  5 &  8\\\\\n",
       "\t  8 & 0 & 16 & 13\\\\\n",
       "\t 13 & 1 & 12 & 18\\\\\n",
       "\\end{tabular}\n"
      ],
      "text/markdown": [
       "\n",
       "A data.table: 4 × 4\n",
       "\n",
       "| Var1 &lt;dbl&gt; | Var2 &lt;dbl&gt; | Var3 &lt;dbl&gt; | Y &lt;dbl&gt; |\n",
       "|---|---|---|---|\n",
       "|  4 | 1 | 18 | 15 |\n",
       "| 15 | 0 |  5 |  8 |\n",
       "|  8 | 0 | 16 | 13 |\n",
       "| 13 | 1 | 12 | 18 |\n",
       "\n"
      ],
      "text/plain": [
       "  Var1 Var2 Var3 Y \n",
       "1  4   1    18   15\n",
       "2 15   0     5    8\n",
       "3  8   0    16   13\n",
       "4 13   1    12   18"
      ]
     },
     "metadata": {},
     "output_type": "display_data"
    }
   ],
   "source": [
    "DF"
   ]
  },
  {
   "cell_type": "code",
   "execution_count": 20,
   "id": "53876c8f-9b2a-4871-99ac-5d21eb227d06",
   "metadata": {},
   "outputs": [],
   "source": [
    "inital_model <- lm(Y ~ Var1 + Var2 + Var3 - 1,DF)"
   ]
  },
  {
   "cell_type": "code",
   "execution_count": 21,
   "id": "03e46cfb-0794-406b-b01f-cdbe801066fb",
   "metadata": {},
   "outputs": [],
   "source": [
    "DF[, PRED := predict(inital_model,DF)]"
   ]
  },
  {
   "cell_type": "code",
   "execution_count": 24,
   "id": "b1dd128b-760b-4ee6-891b-87989f4b1776",
   "metadata": {},
   "outputs": [
    {
     "data": {
      "text/html": [
       "<style>\n",
       ".dl-inline {width: auto; margin:0; padding: 0}\n",
       ".dl-inline>dt, .dl-inline>dd {float: none; width: auto; display: inline-block}\n",
       ".dl-inline>dt::after {content: \":\\0020\"; padding-right: .5ex}\n",
       ".dl-inline>dt:not(:first-of-type) {padding-left: .5ex}\n",
       "</style><dl class=dl-inline><dt>1</dt><dd>16.2125339590936</dd><dt>2</dt><dd>9.16403260072989</dd><dt>3</dt><dd>12.1815395776118</dd><dt>4</dt><dd>16.7874660409064</dd></dl>\n"
      ],
      "text/latex": [
       "\\begin{description*}\n",
       "\\item[1] 16.2125339590936\n",
       "\\item[2] 9.16403260072989\n",
       "\\item[3] 12.1815395776118\n",
       "\\item[4] 16.7874660409064\n",
       "\\end{description*}\n"
      ],
      "text/markdown": [
       "1\n",
       ":   16.21253395909362\n",
       ":   9.164032600729893\n",
       ":   12.18153957761184\n",
       ":   16.7874660409064\n",
       "\n"
      ],
      "text/plain": [
       "        1         2         3         4 \n",
       "16.212534  9.164033 12.181540 16.787466 "
      ]
     },
     "metadata": {},
     "output_type": "display_data"
    }
   ],
   "source": [
    "predict(inital_model,DF)"
   ]
  },
  {
   "cell_type": "code",
   "execution_count": 28,
   "id": "c16e4b54-e32f-4d90-91a8-e3f459920b23",
   "metadata": {},
   "outputs": [
    {
     "data": {
      "text/html": [
       "<table class=\"dataframe\">\n",
       "<caption>A data.table: 4 × 5</caption>\n",
       "<thead>\n",
       "\t<tr><th scope=col>Var1</th><th scope=col>Var2</th><th scope=col>Var3</th><th scope=col>Y</th><th scope=col>PRED</th></tr>\n",
       "\t<tr><th scope=col>&lt;dbl&gt;</th><th scope=col>&lt;dbl&gt;</th><th scope=col>&lt;dbl&gt;</th><th scope=col>&lt;dbl&gt;</th><th scope=col>&lt;dbl&gt;</th></tr>\n",
       "</thead>\n",
       "<tbody>\n",
       "\t<tr><td> 4</td><td>1</td><td>18</td><td>15</td><td>16.212534</td></tr>\n",
       "\t<tr><td>15</td><td>0</td><td> 5</td><td> 8</td><td> 9.164033</td></tr>\n",
       "\t<tr><td> 8</td><td>0</td><td>16</td><td>13</td><td>12.181540</td></tr>\n",
       "\t<tr><td>13</td><td>1</td><td>12</td><td>18</td><td>16.787466</td></tr>\n",
       "</tbody>\n",
       "</table>\n"
      ],
      "text/latex": [
       "A data.table: 4 × 5\n",
       "\\begin{tabular}{lllll}\n",
       " Var1 & Var2 & Var3 & Y & PRED\\\\\n",
       " <dbl> & <dbl> & <dbl> & <dbl> & <dbl>\\\\\n",
       "\\hline\n",
       "\t  4 & 1 & 18 & 15 & 16.212534\\\\\n",
       "\t 15 & 0 &  5 &  8 &  9.164033\\\\\n",
       "\t  8 & 0 & 16 & 13 & 12.181540\\\\\n",
       "\t 13 & 1 & 12 & 18 & 16.787466\\\\\n",
       "\\end{tabular}\n"
      ],
      "text/markdown": [
       "\n",
       "A data.table: 4 × 5\n",
       "\n",
       "| Var1 &lt;dbl&gt; | Var2 &lt;dbl&gt; | Var3 &lt;dbl&gt; | Y &lt;dbl&gt; | PRED &lt;dbl&gt; |\n",
       "|---|---|---|---|---|\n",
       "|  4 | 1 | 18 | 15 | 16.212534 |\n",
       "| 15 | 0 |  5 |  8 |  9.164033 |\n",
       "|  8 | 0 | 16 | 13 | 12.181540 |\n",
       "| 13 | 1 | 12 | 18 | 16.787466 |\n",
       "\n"
      ],
      "text/plain": [
       "  Var1 Var2 Var3 Y  PRED     \n",
       "1  4   1    18   15 16.212534\n",
       "2 15   0     5    8  9.164033\n",
       "3  8   0    16   13 12.181540\n",
       "4 13   1    12   18 16.787466"
      ]
     },
     "metadata": {},
     "output_type": "display_data"
    }
   ],
   "source": [
    "DF"
   ]
  },
  {
   "cell_type": "code",
   "execution_count": 33,
   "id": "0e929b8e-3166-4b7b-9bd3-c1bfa4a0fc46",
   "metadata": {},
   "outputs": [],
   "source": [
    "symbolic_error_sum <- '0.6*(x[1]*4 + x[2] + x[3]*18 - 15)**2 + 0.4*(x[1]*16.21 + x[3]*5 - 8)**2 + \n",
    "0.6*(x[1]*15 + x[3]*5 - 8)**2 + 0.4*(x[1]*9.16 + x[3]*16 - 13)**2 + 0.6*(x[1]*8 + x[3]*16 - 13)**2 + 0.4*(x[1]*12.18 + x[2] + x[3]*12 - 18)**2'"
   ]
  },
  {
   "cell_type": "code",
   "execution_count": 35,
   "id": "bc89ba20-dbcf-4f36-8e7a-76b2f933bf41",
   "metadata": {},
   "outputs": [],
   "source": [
    "eval(parse(text = sprintf('ses_objfun <- function(x) {%s}',symbolic_error_sum)))"
   ]
  },
  {
   "cell_type": "code",
   "execution_count": 37,
   "id": "96bab00a-aa31-4255-8b6d-bc35a41ecc28",
   "metadata": {},
   "outputs": [],
   "source": [
    "txt <- deparse1(body(ses_objfun))\n",
    "txt2 <- gsub(\"x\\\\[(\\\\d)\\\\]\", \"x\\\\1\", txt)"
   ]
  },
  {
   "cell_type": "code",
   "execution_count": 40,
   "id": "7a3e282e-ef7e-4b2d-b2e3-bdb03b310598",
   "metadata": {},
   "outputs": [
    {
     "name": "stderr",
     "output_type": "stream",
     "text": [
      "f(.) with . = (x1, x2, x3)\n",
      "\n"
     ]
    }
   ],
   "source": [
    "library(mpoly)\n",
    "\n",
    "p <- mp(txt2, stars = TRUE)\n",
    "fs <- as.function(p, varorder = sort(vars(p)))"
   ]
  },
  {
   "cell_type": "code",
   "execution_count": 50,
   "id": "f1ccf1a4-539e-4d08-9cf0-9144de08ed91",
   "metadata": {},
   "outputs": [],
   "source": [
    "newcoef <- optim(c(0,0,0),fs)$par \n",
    "\n",
    "names(newcoef) <- paste0('Var',1:3)"
   ]
  },
  {
   "cell_type": "code",
   "execution_count": 51,
   "id": "0ce095fa-6b91-4052-8e8d-804f3fc5e9d2",
   "metadata": {},
   "outputs": [],
   "source": [
    "reshaped_model <- inital_model"
   ]
  },
  {
   "cell_type": "code",
   "execution_count": 52,
   "id": "2275dc66-7505-4192-91e1-19b1f78f8f50",
   "metadata": {},
   "outputs": [],
   "source": [
    "reshaped_model$coefficients <- newcoef"
   ]
  },
  {
   "cell_type": "code",
   "execution_count": 53,
   "id": "ac4277e9-6929-4a29-9232-1fc18c89ae54",
   "metadata": {},
   "outputs": [
    {
     "data": {
      "text/plain": [
       "\n",
       "Call:\n",
       "lm(formula = Y ~ Var1 + Var2 + Var3 - 1, data = DF)\n",
       "\n",
       "Coefficients:\n",
       "  Var1    Var2    Var3  \n",
       "0.3746  4.4082  0.5812  \n"
      ]
     },
     "metadata": {},
     "output_type": "display_data"
    }
   ],
   "source": [
    "reshaped_model"
   ]
  },
  {
   "cell_type": "code",
   "execution_count": 58,
   "id": "4dc4551c-f819-45e9-835b-bda37562b3d7",
   "metadata": {},
   "outputs": [],
   "source": [
    "DF[,PRED2 := predict(reshaped_model,DF)]"
   ]
  },
  {
   "cell_type": "code",
   "execution_count": null,
   "id": "bd614f14-65f8-44bb-a23c-8cbaf7eb2a45",
   "metadata": {},
   "outputs": [],
   "source": [
    "DF[,ERROR1 := PRED - Y]\n",
    "\n",
    "DF[,ERROR2 := PRED2 - Y]\n",
    "\n",
    "DF[,ERROR3 := PRED2 - PRED]"
   ]
  },
  {
   "cell_type": "code",
   "execution_count": 65,
   "id": "fec9dda9-30e8-4403-ba26-8e1387e829dc",
   "metadata": {},
   "outputs": [
    {
     "name": "stderr",
     "output_type": "stream",
     "text": [
      "\n",
      "Attaching package: ‘ggplot2’\n",
      "\n",
      "\n",
      "The following object is masked from ‘package:mpoly’:\n",
      "\n",
      "    vars\n",
      "\n",
      "\n",
      "\n",
      "Attaching package: ‘dplyr’\n",
      "\n",
      "\n",
      "The following object is masked from ‘package:mpoly’:\n",
      "\n",
      "    vars\n",
      "\n",
      "\n",
      "The following objects are masked from ‘package:data.table’:\n",
      "\n",
      "    between, first, last\n",
      "\n",
      "\n",
      "The following objects are masked from ‘package:stats’:\n",
      "\n",
      "    filter, lag\n",
      "\n",
      "\n",
      "The following objects are masked from ‘package:base’:\n",
      "\n",
      "    intersect, setdiff, setequal, union\n",
      "\n",
      "\n"
     ]
    }
   ],
   "source": [
    "library(ggplot2)\n",
    "library(dplyr)"
   ]
  },
  {
   "cell_type": "code",
   "execution_count": 67,
   "id": "c71698ae-7564-4cc7-b402-a5b6237b3d70",
   "metadata": {},
   "outputs": [
    {
     "data": {
      "image/png": "[encoded data removed]",
      "text/plain": [
       "plot without title"
      ]
     },
     "metadata": {
      "image/png": {
       "height": 420,
       "width": 420
      }
     },
     "output_type": "display_data"
    }
   ],
   "source": [
    "DF %>% \n",
    "mutate(rownum = 1:n()) %>% \n",
    "ggplot()+\n",
    "geom_line(aes(x=rownum , y = ERROR1),color='red')+\n",
    "geom_line(aes(x=rownum , y = ERROR2),color='blue')+\n",
    "geom_line(aes(x=rownum , y = ERROR3),color='purple')"
   ]
  },
  {
   "cell_type": "code",
   "execution_count": 68,
   "id": "3c389ebd-0b73-42c5-9a9c-bd44cdaf336a",
   "metadata": {},
   "outputs": [
    {
     "data": {
      "text/plain": [
       "\n",
       "Call:\n",
       "lm(formula = Y ~ Var1 + Var2 + Var3 - 1, data = DF)\n",
       "\n",
       "Coefficients:\n",
       "  Var1    Var2    Var3  \n",
       "0.4286  4.6512  0.5471  \n"
      ]
     },
     "metadata": {},
     "output_type": "display_data"
    }
   ],
   "source": [
    "inital_model"
   ]
  },
  {
   "cell_type": "code",
   "execution_count": 69,
   "id": "3cc8a91f-e057-4649-b99d-027c24323957",
   "metadata": {},
   "outputs": [
    {
     "data": {
      "text/plain": [
       "\n",
       "Call:\n",
       "lm(formula = Y ~ Var1 + Var2 + Var3 - 1, data = DF)\n",
       "\n",
       "Coefficients:\n",
       "  Var1    Var2    Var3  \n",
       "0.3746  4.4082  0.5812  \n"
      ]
     },
     "metadata": {},
     "output_type": "display_data"
    }
   ],
   "source": [
    "reshaped_model"
   ]
  },
  {
   "cell_type": "code",
   "execution_count": 75,
   "id": "72344a12-5667-4b83-b210-f3c01b9cd435",
   "metadata": {},
   "outputs": [
    {
     "data": {
      "text/html": [
       "<table class=\"dataframe\">\n",
       "<caption>A data.table: 1 × 1</caption>\n",
       "<thead>\n",
       "\t<tr><th scope=col>ratio</th></tr>\n",
       "\t<tr><th scope=col>&lt;dbl&gt;</th></tr>\n",
       "</thead>\n",
       "<tbody>\n",
       "\t<tr><td>1.147479</td></tr>\n",
       "</tbody>\n",
       "</table>\n"
      ],
      "text/latex": [
       "A data.table: 1 × 1\n",
       "\\begin{tabular}{l}\n",
       " ratio\\\\\n",
       " <dbl>\\\\\n",
       "\\hline\n",
       "\t 1.147479\\\\\n",
       "\\end{tabular}\n"
      ],
      "text/markdown": [
       "\n",
       "A data.table: 1 × 1\n",
       "\n",
       "| ratio &lt;dbl&gt; |\n",
       "|---|\n",
       "| 1.147479 |\n",
       "\n"
      ],
      "text/plain": [
       "  ratio   \n",
       "1 1.147479"
      ]
     },
     "metadata": {},
     "output_type": "display_data"
    }
   ],
   "source": [
    "DF[,.(inital_SSE = sum(ERROR1**2), reshaped_SSE = sum(ERROR2**2))][,.(ratio = reshaped_SSE / inital_SSE)]"
   ]
  }
 ],
 "metadata": {
  "kernelspec": {
   "display_name": "R",
   "language": "R",
   "name": "ir"
  },
  "language_info": {
   "codemirror_mode": "r",
   "file_extension": ".r",
   "mimetype": "text/x-r-source",
   "name": "R",
   "pygments_lexer": "r",
   "version": "4.1.2"
  }
 },
 "nbformat": 4,
 "nbformat_minor": 5
}
