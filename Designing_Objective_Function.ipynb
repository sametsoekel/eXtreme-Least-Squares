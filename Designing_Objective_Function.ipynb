{
 "cells": [
  {
   "cell_type": "code",
   "execution_count": 92,
   "id": "e364dabd-467a-4615-b9cb-5e793b18bca8",
   "metadata": {},
   "outputs": [
    {
     "data": {
      "text/html": [
       "<table class=\"dataframe\">\n",
       "<caption>A data.frame: 8 × 1</caption>\n",
       "<thead>\n",
       "\t<tr><th scope=col>error_symbolic</th></tr>\n",
       "\t<tr><th scope=col>&lt;chr&gt;</th></tr>\n",
       "</thead>\n",
       "<tbody>\n",
       "\t<tr><td>(x[1]*1.4 + x[2]*2.8 - 3)^2 </td></tr>\n",
       "\t<tr><td>(x[1]*5.3 + x[2]*3.6 - 5)^2 </td></tr>\n",
       "\t<tr><td>(x[1]*2.2 + x[2]*4.4 - 8)^2 </td></tr>\n",
       "\t<tr><td>(x[1]*0.2 + x[2]*3.3 - 1)^2 </td></tr>\n",
       "\t<tr><td>(x[1]*3.2 + x[2]*1.1 - 8)^2 </td></tr>\n",
       "\t<tr><td>(x[1]*6.2 + x[2]*2.3 - 10)^2</td></tr>\n",
       "\t<tr><td>(x[1]*4.2 + x[2]*2.1 - 5)^2 </td></tr>\n",
       "\t<tr><td>(x[1]*3.2 + x[2]*6.3 - 2)^2 </td></tr>\n",
       "</tbody>\n",
       "</table>\n"
      ],
      "text/latex": [
       "A data.frame: 8 × 1\n",
       "\\begin{tabular}{l}\n",
       " error\\_symbolic\\\\\n",
       " <chr>\\\\\n",
       "\\hline\n",
       "\t (x{[}1{]}*1.4 + x{[}2{]}*2.8 - 3)\\textasciicircum{}2 \\\\\n",
       "\t (x{[}1{]}*5.3 + x{[}2{]}*3.6 - 5)\\textasciicircum{}2 \\\\\n",
       "\t (x{[}1{]}*2.2 + x{[}2{]}*4.4 - 8)\\textasciicircum{}2 \\\\\n",
       "\t (x{[}1{]}*0.2 + x{[}2{]}*3.3 - 1)\\textasciicircum{}2 \\\\\n",
       "\t (x{[}1{]}*3.2 + x{[}2{]}*1.1 - 8)\\textasciicircum{}2 \\\\\n",
       "\t (x{[}1{]}*6.2 + x{[}2{]}*2.3 - 10)\\textasciicircum{}2\\\\\n",
       "\t (x{[}1{]}*4.2 + x{[}2{]}*2.1 - 5)\\textasciicircum{}2 \\\\\n",
       "\t (x{[}1{]}*3.2 + x{[}2{]}*6.3 - 2)\\textasciicircum{}2 \\\\\n",
       "\\end{tabular}\n"
      ],
      "text/markdown": [
       "\n",
       "A data.frame: 8 × 1\n",
       "\n",
       "| error_symbolic &lt;chr&gt; |\n",
       "|---|\n",
       "| (x[1]*1.4 + x[2]*2.8 - 3)^2  |\n",
       "| (x[1]*5.3 + x[2]*3.6 - 5)^2  |\n",
       "| (x[1]*2.2 + x[2]*4.4 - 8)^2  |\n",
       "| (x[1]*0.2 + x[2]*3.3 - 1)^2  |\n",
       "| (x[1]*3.2 + x[2]*1.1 - 8)^2  |\n",
       "| (x[1]*6.2 + x[2]*2.3 - 10)^2 |\n",
       "| (x[1]*4.2 + x[2]*2.1 - 5)^2  |\n",
       "| (x[1]*3.2 + x[2]*6.3 - 2)^2  |\n",
       "\n"
      ],
      "text/plain": [
       "  error_symbolic              \n",
       "1 (x[1]*1.4 + x[2]*2.8 - 3)^2 \n",
       "2 (x[1]*5.3 + x[2]*3.6 - 5)^2 \n",
       "3 (x[1]*2.2 + x[2]*4.4 - 8)^2 \n",
       "4 (x[1]*0.2 + x[2]*3.3 - 1)^2 \n",
       "5 (x[1]*3.2 + x[2]*1.1 - 8)^2 \n",
       "6 (x[1]*6.2 + x[2]*2.3 - 10)^2\n",
       "7 (x[1]*4.2 + x[2]*2.1 - 5)^2 \n",
       "8 (x[1]*3.2 + x[2]*6.3 - 2)^2 "
      ]
     },
     "metadata": {},
     "output_type": "display_data"
    }
   ],
   "source": [
    "error_weights <- c(0.4,0.45,0.15)\n",
    "\n",
    "lag_param <- length(error_weights)\n",
    "\n",
    "df <- data.frame(error_symbolic = c('(x[1]*1.4 + x[2]*2.8 - 3)^2',\n",
    "                                    '(x[1]*5.3 + x[2]*3.6 - 5)^2',\n",
    "                                    '(x[1]*2.2 + x[2]*4.4 - 8)^2',\n",
    "                                    '(x[1]*0.2 + x[2]*3.3 - 1)^2',\n",
    "                                    '(x[1]*3.2 + x[2]*1.1 - 8)^2',\n",
    "                                    '(x[1]*6.2 + x[2]*2.3 - 10)^2',\n",
    "                                    '(x[1]*4.2 + x[2]*2.1 - 5)^2',\n",
    "                                    '(x[1]*3.2 + x[2]*6.3 - 2)^2'))\n",
    "\n",
    "df"
   ]
  },
  {
   "cell_type": "code",
   "execution_count": 93,
   "id": "8c69b89d-2744-4570-bd54-069c670aa421",
   "metadata": {},
   "outputs": [],
   "source": [
    "sample_size <- nrow(df)\n",
    "\n",
    "df$ahead_error_symbolic <- sapply(\n",
    "  1:sample_size,\n",
    "  function(x) paste(df$error_symbolic[x:min(x+lag_param-1, sample_size)], collapse = \" add \")\n",
    ")"
   ]
  },
  {
   "cell_type": "code",
   "execution_count": 94,
   "id": "f66608b7-4ab8-4f3e-87c9-8735f1079701",
   "metadata": {},
   "outputs": [],
   "source": [
    "df$ahead_num <- sapply(strsplit(df$ahead_error_symbolic,split = ' add '),length)"
   ]
  },
  {
   "cell_type": "code",
   "execution_count": 95,
   "id": "d4eda936-e40d-4aaa-894d-a83958bf5b05",
   "metadata": {},
   "outputs": [],
   "source": [
    "df <- subset(df,ahead_num == length(error_weights))"
   ]
  },
  {
   "cell_type": "code",
   "execution_count": 96,
   "id": "b63ab998-bb7e-40ce-9fe3-03342a795240",
   "metadata": {},
   "outputs": [],
   "source": [
    "df$ahead_error_symbolic <- strsplit(df$ahead_error_symbolic,' add ')"
   ]
  },
  {
   "cell_type": "code",
   "execution_count": 97,
   "id": "e8714426-2fc3-4345-a7c1-7d9c3824813b",
   "metadata": {},
   "outputs": [],
   "source": [
    "new_sample_size <- nrow(df)"
   ]
  },
  {
   "cell_type": "code",
   "execution_count": 100,
   "id": "9f9158e5-14d2-4fe5-8ff9-4f89ba908c7f",
   "metadata": {},
   "outputs": [],
   "source": [
    "df$error_weights <- rep(list(error_weights),new_sample_size)"
   ]
  },
  {
   "cell_type": "code",
   "execution_count": 101,
   "id": "4226bea9-f16f-4772-983f-2adedc7e25b2",
   "metadata": {},
   "outputs": [
    {
     "data": {
      "text/html": [
       "<table class=\"dataframe\">\n",
       "<caption>A data.frame: 6 × 4</caption>\n",
       "<thead>\n",
       "\t<tr><th></th><th scope=col>error_symbolic</th><th scope=col>ahead_error_symbolic</th><th scope=col>ahead_num</th><th scope=col>error_weights</th></tr>\n",
       "\t<tr><th></th><th scope=col>&lt;chr&gt;</th><th scope=col>&lt;list&gt;</th><th scope=col>&lt;int&gt;</th><th scope=col>&lt;list&gt;</th></tr>\n",
       "</thead>\n",
       "<tbody>\n",
       "\t<tr><th scope=row>1</th><td>(x[1]*1.4 + x[2]*2.8 - 3)^2 </td><td>(x[1]*1.4 + x[2]*2.8 - 3)^2, (x[1]*5.3 + x[2]*3.6 - 5)^2, (x[1]*2.2 + x[2]*4.4 - 8)^2</td><td>3</td><td>0.40, 0.45, 0.15</td></tr>\n",
       "\t<tr><th scope=row>2</th><td>(x[1]*5.3 + x[2]*3.6 - 5)^2 </td><td>(x[1]*5.3 + x[2]*3.6 - 5)^2, (x[1]*2.2 + x[2]*4.4 - 8)^2, (x[1]*0.2 + x[2]*3.3 - 1)^2</td><td>3</td><td>0.40, 0.45, 0.15</td></tr>\n",
       "\t<tr><th scope=row>3</th><td>(x[1]*2.2 + x[2]*4.4 - 8)^2 </td><td>(x[1]*2.2 + x[2]*4.4 - 8)^2, (x[1]*0.2 + x[2]*3.3 - 1)^2, (x[1]*3.2 + x[2]*1.1 - 8)^2</td><td>3</td><td>0.40, 0.45, 0.15</td></tr>\n",
       "\t<tr><th scope=row>4</th><td>(x[1]*0.2 + x[2]*3.3 - 1)^2 </td><td>(x[1]*0.2 + x[2]*3.3 - 1)^2 , (x[1]*3.2 + x[2]*1.1 - 8)^2 , (x[1]*6.2 + x[2]*2.3 - 10)^2</td><td>3</td><td>0.40, 0.45, 0.15</td></tr>\n",
       "\t<tr><th scope=row>5</th><td>(x[1]*3.2 + x[2]*1.1 - 8)^2 </td><td>(x[1]*3.2 + x[2]*1.1 - 8)^2 , (x[1]*6.2 + x[2]*2.3 - 10)^2, (x[1]*4.2 + x[2]*2.1 - 5)^2 </td><td>3</td><td>0.40, 0.45, 0.15</td></tr>\n",
       "\t<tr><th scope=row>6</th><td>(x[1]*6.2 + x[2]*2.3 - 10)^2</td><td>(x[1]*6.2 + x[2]*2.3 - 10)^2, (x[1]*4.2 + x[2]*2.1 - 5)^2 , (x[1]*3.2 + x[2]*6.3 - 2)^2 </td><td>3</td><td>0.40, 0.45, 0.15</td></tr>\n",
       "</tbody>\n",
       "</table>\n"
      ],
      "text/latex": [
       "A data.frame: 6 × 4\n",
       "\\begin{tabular}{r|llll}\n",
       "  & error\\_symbolic & ahead\\_error\\_symbolic & ahead\\_num & error\\_weights\\\\\n",
       "  & <chr> & <list> & <int> & <list>\\\\\n",
       "\\hline\n",
       "\t1 & (x{[}1{]}*1.4 + x{[}2{]}*2.8 - 3)\\textasciicircum{}2  & (x{[}1{]}*1.4 + x{[}2{]}*2.8 - 3)\\textasciicircum{}2, (x{[}1{]}*5.3 + x{[}2{]}*3.6 - 5)\\textasciicircum{}2, (x{[}1{]}*2.2 + x{[}2{]}*4.4 - 8)\\textasciicircum{}2 & 3 & 0.40, 0.45, 0.15\\\\\n",
       "\t2 & (x{[}1{]}*5.3 + x{[}2{]}*3.6 - 5)\\textasciicircum{}2  & (x{[}1{]}*5.3 + x{[}2{]}*3.6 - 5)\\textasciicircum{}2, (x{[}1{]}*2.2 + x{[}2{]}*4.4 - 8)\\textasciicircum{}2, (x{[}1{]}*0.2 + x{[}2{]}*3.3 - 1)\\textasciicircum{}2 & 3 & 0.40, 0.45, 0.15\\\\\n",
       "\t3 & (x{[}1{]}*2.2 + x{[}2{]}*4.4 - 8)\\textasciicircum{}2  & (x{[}1{]}*2.2 + x{[}2{]}*4.4 - 8)\\textasciicircum{}2, (x{[}1{]}*0.2 + x{[}2{]}*3.3 - 1)\\textasciicircum{}2, (x{[}1{]}*3.2 + x{[}2{]}*1.1 - 8)\\textasciicircum{}2 & 3 & 0.40, 0.45, 0.15\\\\\n",
       "\t4 & (x{[}1{]}*0.2 + x{[}2{]}*3.3 - 1)\\textasciicircum{}2  & (x{[}1{]}*0.2 + x{[}2{]}*3.3 - 1)\\textasciicircum{}2 , (x{[}1{]}*3.2 + x{[}2{]}*1.1 - 8)\\textasciicircum{}2 , (x{[}1{]}*6.2 + x{[}2{]}*2.3 - 10)\\textasciicircum{}2 & 3 & 0.40, 0.45, 0.15\\\\\n",
       "\t5 & (x{[}1{]}*3.2 + x{[}2{]}*1.1 - 8)\\textasciicircum{}2  & (x{[}1{]}*3.2 + x{[}2{]}*1.1 - 8)\\textasciicircum{}2 , (x{[}1{]}*6.2 + x{[}2{]}*2.3 - 10)\\textasciicircum{}2, (x{[}1{]}*4.2 + x{[}2{]}*2.1 - 5)\\textasciicircum{}2  & 3 & 0.40, 0.45, 0.15\\\\\n",
       "\t6 & (x{[}1{]}*6.2 + x{[}2{]}*2.3 - 10)\\textasciicircum{}2 & (x{[}1{]}*6.2 + x{[}2{]}*2.3 - 10)\\textasciicircum{}2, (x{[}1{]}*4.2 + x{[}2{]}*2.1 - 5)\\textasciicircum{}2 , (x{[}1{]}*3.2 + x{[}2{]}*6.3 - 2)\\textasciicircum{}2  & 3 & 0.40, 0.45, 0.15\\\\\n",
       "\\end{tabular}\n"
      ],
      "text/markdown": [
       "\n",
       "A data.frame: 6 × 4\n",
       "\n",
       "| <!--/--> | error_symbolic &lt;chr&gt; | ahead_error_symbolic &lt;list&gt; | ahead_num &lt;int&gt; | error_weights &lt;list&gt; |\n",
       "|---|---|---|---|---|\n",
       "| 1 | (x[1]*1.4 + x[2]*2.8 - 3)^2  | (x[1]*1.4 + x[2]*2.8 - 3)^2, (x[1]*5.3 + x[2]*3.6 - 5)^2, (x[1]*2.2 + x[2]*4.4 - 8)^2 | 3 | 0.40, 0.45, 0.15 |\n",
       "| 2 | (x[1]*5.3 + x[2]*3.6 - 5)^2  | (x[1]*5.3 + x[2]*3.6 - 5)^2, (x[1]*2.2 + x[2]*4.4 - 8)^2, (x[1]*0.2 + x[2]*3.3 - 1)^2 | 3 | 0.40, 0.45, 0.15 |\n",
       "| 3 | (x[1]*2.2 + x[2]*4.4 - 8)^2  | (x[1]*2.2 + x[2]*4.4 - 8)^2, (x[1]*0.2 + x[2]*3.3 - 1)^2, (x[1]*3.2 + x[2]*1.1 - 8)^2 | 3 | 0.40, 0.45, 0.15 |\n",
       "| 4 | (x[1]*0.2 + x[2]*3.3 - 1)^2  | (x[1]*0.2 + x[2]*3.3 - 1)^2 , (x[1]*3.2 + x[2]*1.1 - 8)^2 , (x[1]*6.2 + x[2]*2.3 - 10)^2 | 3 | 0.40, 0.45, 0.15 |\n",
       "| 5 | (x[1]*3.2 + x[2]*1.1 - 8)^2  | (x[1]*3.2 + x[2]*1.1 - 8)^2 , (x[1]*6.2 + x[2]*2.3 - 10)^2, (x[1]*4.2 + x[2]*2.1 - 5)^2  | 3 | 0.40, 0.45, 0.15 |\n",
       "| 6 | (x[1]*6.2 + x[2]*2.3 - 10)^2 | (x[1]*6.2 + x[2]*2.3 - 10)^2, (x[1]*4.2 + x[2]*2.1 - 5)^2 , (x[1]*3.2 + x[2]*6.3 - 2)^2  | 3 | 0.40, 0.45, 0.15 |\n",
       "\n"
      ],
      "text/plain": [
       "  error_symbolic              \n",
       "1 (x[1]*1.4 + x[2]*2.8 - 3)^2 \n",
       "2 (x[1]*5.3 + x[2]*3.6 - 5)^2 \n",
       "3 (x[1]*2.2 + x[2]*4.4 - 8)^2 \n",
       "4 (x[1]*0.2 + x[2]*3.3 - 1)^2 \n",
       "5 (x[1]*3.2 + x[2]*1.1 - 8)^2 \n",
       "6 (x[1]*6.2 + x[2]*2.3 - 10)^2\n",
       "  ahead_error_symbolic                                                                    \n",
       "1 (x[1]*1.4 + x[2]*2.8 - 3)^2, (x[1]*5.3 + x[2]*3.6 - 5)^2, (x[1]*2.2 + x[2]*4.4 - 8)^2   \n",
       "2 (x[1]*5.3 + x[2]*3.6 - 5)^2, (x[1]*2.2 + x[2]*4.4 - 8)^2, (x[1]*0.2 + x[2]*3.3 - 1)^2   \n",
       "3 (x[1]*2.2 + x[2]*4.4 - 8)^2, (x[1]*0.2 + x[2]*3.3 - 1)^2, (x[1]*3.2 + x[2]*1.1 - 8)^2   \n",
       "4 (x[1]*0.2 + x[2]*3.3 - 1)^2 , (x[1]*3.2 + x[2]*1.1 - 8)^2 , (x[1]*6.2 + x[2]*2.3 - 10)^2\n",
       "5 (x[1]*3.2 + x[2]*1.1 - 8)^2 , (x[1]*6.2 + x[2]*2.3 - 10)^2, (x[1]*4.2 + x[2]*2.1 - 5)^2 \n",
       "6 (x[1]*6.2 + x[2]*2.3 - 10)^2, (x[1]*4.2 + x[2]*2.1 - 5)^2 , (x[1]*3.2 + x[2]*6.3 - 2)^2 \n",
       "  ahead_num error_weights   \n",
       "1 3         0.40, 0.45, 0.15\n",
       "2 3         0.40, 0.45, 0.15\n",
       "3 3         0.40, 0.45, 0.15\n",
       "4 3         0.40, 0.45, 0.15\n",
       "5 3         0.40, 0.45, 0.15\n",
       "6 3         0.40, 0.45, 0.15"
      ]
     },
     "metadata": {},
     "output_type": "display_data"
    }
   ],
   "source": [
    "df"
   ]
  },
  {
   "cell_type": "code",
   "execution_count": 102,
   "id": "f7e99c7c-a7ee-4710-85b4-aaffc7224e2f",
   "metadata": {},
   "outputs": [],
   "source": [
    "df$desired_column <- mapply(\n",
    "  paste,\n",
    "  df$error_weights,\n",
    "  df$ahead_error_symbolic,\n",
    "  sep = \"*\",\n",
    "  collapse = \" + \"\n",
    ")"
   ]
  },
  {
   "cell_type": "code",
   "execution_count": 103,
   "id": "5e8874a5-9f81-42aa-8993-f312e378cd7a",
   "metadata": {},
   "outputs": [
    {
     "data": {
      "text/html": [
       "<table class=\"dataframe\">\n",
       "<caption>A data.frame: 6 × 5</caption>\n",
       "<thead>\n",
       "\t<tr><th></th><th scope=col>error_symbolic</th><th scope=col>ahead_error_symbolic</th><th scope=col>ahead_num</th><th scope=col>error_weights</th><th scope=col>desired_column</th></tr>\n",
       "\t<tr><th></th><th scope=col>&lt;chr&gt;</th><th scope=col>&lt;list&gt;</th><th scope=col>&lt;int&gt;</th><th scope=col>&lt;list&gt;</th><th scope=col>&lt;chr&gt;</th></tr>\n",
       "</thead>\n",
       "<tbody>\n",
       "\t<tr><th scope=row>1</th><td>(x[1]*1.4 + x[2]*2.8 - 3)^2 </td><td>(x[1]*1.4 + x[2]*2.8 - 3)^2, (x[1]*5.3 + x[2]*3.6 - 5)^2, (x[1]*2.2 + x[2]*4.4 - 8)^2</td><td>3</td><td>0.40, 0.45, 0.15</td><td>0.4*(x[1]*1.4 + x[2]*2.8 - 3)^2 + 0.45*(x[1]*5.3 + x[2]*3.6 - 5)^2 + 0.15*(x[1]*2.2 + x[2]*4.4 - 8)^2 </td></tr>\n",
       "\t<tr><th scope=row>2</th><td>(x[1]*5.3 + x[2]*3.6 - 5)^2 </td><td>(x[1]*5.3 + x[2]*3.6 - 5)^2, (x[1]*2.2 + x[2]*4.4 - 8)^2, (x[1]*0.2 + x[2]*3.3 - 1)^2</td><td>3</td><td>0.40, 0.45, 0.15</td><td>0.4*(x[1]*5.3 + x[2]*3.6 - 5)^2 + 0.45*(x[1]*2.2 + x[2]*4.4 - 8)^2 + 0.15*(x[1]*0.2 + x[2]*3.3 - 1)^2 </td></tr>\n",
       "\t<tr><th scope=row>3</th><td>(x[1]*2.2 + x[2]*4.4 - 8)^2 </td><td>(x[1]*2.2 + x[2]*4.4 - 8)^2, (x[1]*0.2 + x[2]*3.3 - 1)^2, (x[1]*3.2 + x[2]*1.1 - 8)^2</td><td>3</td><td>0.40, 0.45, 0.15</td><td>0.4*(x[1]*2.2 + x[2]*4.4 - 8)^2 + 0.45*(x[1]*0.2 + x[2]*3.3 - 1)^2 + 0.15*(x[1]*3.2 + x[2]*1.1 - 8)^2 </td></tr>\n",
       "\t<tr><th scope=row>4</th><td>(x[1]*0.2 + x[2]*3.3 - 1)^2 </td><td>(x[1]*0.2 + x[2]*3.3 - 1)^2 , (x[1]*3.2 + x[2]*1.1 - 8)^2 , (x[1]*6.2 + x[2]*2.3 - 10)^2</td><td>3</td><td>0.40, 0.45, 0.15</td><td>0.4*(x[1]*0.2 + x[2]*3.3 - 1)^2 + 0.45*(x[1]*3.2 + x[2]*1.1 - 8)^2 + 0.15*(x[1]*6.2 + x[2]*2.3 - 10)^2</td></tr>\n",
       "\t<tr><th scope=row>5</th><td>(x[1]*3.2 + x[2]*1.1 - 8)^2 </td><td>(x[1]*3.2 + x[2]*1.1 - 8)^2 , (x[1]*6.2 + x[2]*2.3 - 10)^2, (x[1]*4.2 + x[2]*2.1 - 5)^2 </td><td>3</td><td>0.40, 0.45, 0.15</td><td>0.4*(x[1]*3.2 + x[2]*1.1 - 8)^2 + 0.45*(x[1]*6.2 + x[2]*2.3 - 10)^2 + 0.15*(x[1]*4.2 + x[2]*2.1 - 5)^2</td></tr>\n",
       "\t<tr><th scope=row>6</th><td>(x[1]*6.2 + x[2]*2.3 - 10)^2</td><td>(x[1]*6.2 + x[2]*2.3 - 10)^2, (x[1]*4.2 + x[2]*2.1 - 5)^2 , (x[1]*3.2 + x[2]*6.3 - 2)^2 </td><td>3</td><td>0.40, 0.45, 0.15</td><td>0.4*(x[1]*6.2 + x[2]*2.3 - 10)^2 + 0.45*(x[1]*4.2 + x[2]*2.1 - 5)^2 + 0.15*(x[1]*3.2 + x[2]*6.3 - 2)^2</td></tr>\n",
       "</tbody>\n",
       "</table>\n"
      ],
      "text/latex": [
       "A data.frame: 6 × 5\n",
       "\\begin{tabular}{r|lllll}\n",
       "  & error\\_symbolic & ahead\\_error\\_symbolic & ahead\\_num & error\\_weights & desired\\_column\\\\\n",
       "  & <chr> & <list> & <int> & <list> & <chr>\\\\\n",
       "\\hline\n",
       "\t1 & (x{[}1{]}*1.4 + x{[}2{]}*2.8 - 3)\\textasciicircum{}2  & (x{[}1{]}*1.4 + x{[}2{]}*2.8 - 3)\\textasciicircum{}2, (x{[}1{]}*5.3 + x{[}2{]}*3.6 - 5)\\textasciicircum{}2, (x{[}1{]}*2.2 + x{[}2{]}*4.4 - 8)\\textasciicircum{}2 & 3 & 0.40, 0.45, 0.15 & 0.4*(x{[}1{]}*1.4 + x{[}2{]}*2.8 - 3)\\textasciicircum{}2 + 0.45*(x{[}1{]}*5.3 + x{[}2{]}*3.6 - 5)\\textasciicircum{}2 + 0.15*(x{[}1{]}*2.2 + x{[}2{]}*4.4 - 8)\\textasciicircum{}2 \\\\\n",
       "\t2 & (x{[}1{]}*5.3 + x{[}2{]}*3.6 - 5)\\textasciicircum{}2  & (x{[}1{]}*5.3 + x{[}2{]}*3.6 - 5)\\textasciicircum{}2, (x{[}1{]}*2.2 + x{[}2{]}*4.4 - 8)\\textasciicircum{}2, (x{[}1{]}*0.2 + x{[}2{]}*3.3 - 1)\\textasciicircum{}2 & 3 & 0.40, 0.45, 0.15 & 0.4*(x{[}1{]}*5.3 + x{[}2{]}*3.6 - 5)\\textasciicircum{}2 + 0.45*(x{[}1{]}*2.2 + x{[}2{]}*4.4 - 8)\\textasciicircum{}2 + 0.15*(x{[}1{]}*0.2 + x{[}2{]}*3.3 - 1)\\textasciicircum{}2 \\\\\n",
       "\t3 & (x{[}1{]}*2.2 + x{[}2{]}*4.4 - 8)\\textasciicircum{}2  & (x{[}1{]}*2.2 + x{[}2{]}*4.4 - 8)\\textasciicircum{}2, (x{[}1{]}*0.2 + x{[}2{]}*3.3 - 1)\\textasciicircum{}2, (x{[}1{]}*3.2 + x{[}2{]}*1.1 - 8)\\textasciicircum{}2 & 3 & 0.40, 0.45, 0.15 & 0.4*(x{[}1{]}*2.2 + x{[}2{]}*4.4 - 8)\\textasciicircum{}2 + 0.45*(x{[}1{]}*0.2 + x{[}2{]}*3.3 - 1)\\textasciicircum{}2 + 0.15*(x{[}1{]}*3.2 + x{[}2{]}*1.1 - 8)\\textasciicircum{}2 \\\\\n",
       "\t4 & (x{[}1{]}*0.2 + x{[}2{]}*3.3 - 1)\\textasciicircum{}2  & (x{[}1{]}*0.2 + x{[}2{]}*3.3 - 1)\\textasciicircum{}2 , (x{[}1{]}*3.2 + x{[}2{]}*1.1 - 8)\\textasciicircum{}2 , (x{[}1{]}*6.2 + x{[}2{]}*2.3 - 10)\\textasciicircum{}2 & 3 & 0.40, 0.45, 0.15 & 0.4*(x{[}1{]}*0.2 + x{[}2{]}*3.3 - 1)\\textasciicircum{}2 + 0.45*(x{[}1{]}*3.2 + x{[}2{]}*1.1 - 8)\\textasciicircum{}2 + 0.15*(x{[}1{]}*6.2 + x{[}2{]}*2.3 - 10)\\textasciicircum{}2\\\\\n",
       "\t5 & (x{[}1{]}*3.2 + x{[}2{]}*1.1 - 8)\\textasciicircum{}2  & (x{[}1{]}*3.2 + x{[}2{]}*1.1 - 8)\\textasciicircum{}2 , (x{[}1{]}*6.2 + x{[}2{]}*2.3 - 10)\\textasciicircum{}2, (x{[}1{]}*4.2 + x{[}2{]}*2.1 - 5)\\textasciicircum{}2  & 3 & 0.40, 0.45, 0.15 & 0.4*(x{[}1{]}*3.2 + x{[}2{]}*1.1 - 8)\\textasciicircum{}2 + 0.45*(x{[}1{]}*6.2 + x{[}2{]}*2.3 - 10)\\textasciicircum{}2 + 0.15*(x{[}1{]}*4.2 + x{[}2{]}*2.1 - 5)\\textasciicircum{}2\\\\\n",
       "\t6 & (x{[}1{]}*6.2 + x{[}2{]}*2.3 - 10)\\textasciicircum{}2 & (x{[}1{]}*6.2 + x{[}2{]}*2.3 - 10)\\textasciicircum{}2, (x{[}1{]}*4.2 + x{[}2{]}*2.1 - 5)\\textasciicircum{}2 , (x{[}1{]}*3.2 + x{[}2{]}*6.3 - 2)\\textasciicircum{}2  & 3 & 0.40, 0.45, 0.15 & 0.4*(x{[}1{]}*6.2 + x{[}2{]}*2.3 - 10)\\textasciicircum{}2 + 0.45*(x{[}1{]}*4.2 + x{[}2{]}*2.1 - 5)\\textasciicircum{}2 + 0.15*(x{[}1{]}*3.2 + x{[}2{]}*6.3 - 2)\\textasciicircum{}2\\\\\n",
       "\\end{tabular}\n"
      ],
      "text/markdown": [
       "\n",
       "A data.frame: 6 × 5\n",
       "\n",
       "| <!--/--> | error_symbolic &lt;chr&gt; | ahead_error_symbolic &lt;list&gt; | ahead_num &lt;int&gt; | error_weights &lt;list&gt; | desired_column &lt;chr&gt; |\n",
       "|---|---|---|---|---|---|\n",
       "| 1 | (x[1]*1.4 + x[2]*2.8 - 3)^2  | (x[1]*1.4 + x[2]*2.8 - 3)^2, (x[1]*5.3 + x[2]*3.6 - 5)^2, (x[1]*2.2 + x[2]*4.4 - 8)^2 | 3 | 0.40, 0.45, 0.15 | 0.4*(x[1]*1.4 + x[2]*2.8 - 3)^2 + 0.45*(x[1]*5.3 + x[2]*3.6 - 5)^2 + 0.15*(x[1]*2.2 + x[2]*4.4 - 8)^2  |\n",
       "| 2 | (x[1]*5.3 + x[2]*3.6 - 5)^2  | (x[1]*5.3 + x[2]*3.6 - 5)^2, (x[1]*2.2 + x[2]*4.4 - 8)^2, (x[1]*0.2 + x[2]*3.3 - 1)^2 | 3 | 0.40, 0.45, 0.15 | 0.4*(x[1]*5.3 + x[2]*3.6 - 5)^2 + 0.45*(x[1]*2.2 + x[2]*4.4 - 8)^2 + 0.15*(x[1]*0.2 + x[2]*3.3 - 1)^2  |\n",
       "| 3 | (x[1]*2.2 + x[2]*4.4 - 8)^2  | (x[1]*2.2 + x[2]*4.4 - 8)^2, (x[1]*0.2 + x[2]*3.3 - 1)^2, (x[1]*3.2 + x[2]*1.1 - 8)^2 | 3 | 0.40, 0.45, 0.15 | 0.4*(x[1]*2.2 + x[2]*4.4 - 8)^2 + 0.45*(x[1]*0.2 + x[2]*3.3 - 1)^2 + 0.15*(x[1]*3.2 + x[2]*1.1 - 8)^2  |\n",
       "| 4 | (x[1]*0.2 + x[2]*3.3 - 1)^2  | (x[1]*0.2 + x[2]*3.3 - 1)^2 , (x[1]*3.2 + x[2]*1.1 - 8)^2 , (x[1]*6.2 + x[2]*2.3 - 10)^2 | 3 | 0.40, 0.45, 0.15 | 0.4*(x[1]*0.2 + x[2]*3.3 - 1)^2 + 0.45*(x[1]*3.2 + x[2]*1.1 - 8)^2 + 0.15*(x[1]*6.2 + x[2]*2.3 - 10)^2 |\n",
       "| 5 | (x[1]*3.2 + x[2]*1.1 - 8)^2  | (x[1]*3.2 + x[2]*1.1 - 8)^2 , (x[1]*6.2 + x[2]*2.3 - 10)^2, (x[1]*4.2 + x[2]*2.1 - 5)^2  | 3 | 0.40, 0.45, 0.15 | 0.4*(x[1]*3.2 + x[2]*1.1 - 8)^2 + 0.45*(x[1]*6.2 + x[2]*2.3 - 10)^2 + 0.15*(x[1]*4.2 + x[2]*2.1 - 5)^2 |\n",
       "| 6 | (x[1]*6.2 + x[2]*2.3 - 10)^2 | (x[1]*6.2 + x[2]*2.3 - 10)^2, (x[1]*4.2 + x[2]*2.1 - 5)^2 , (x[1]*3.2 + x[2]*6.3 - 2)^2  | 3 | 0.40, 0.45, 0.15 | 0.4*(x[1]*6.2 + x[2]*2.3 - 10)^2 + 0.45*(x[1]*4.2 + x[2]*2.1 - 5)^2 + 0.15*(x[1]*3.2 + x[2]*6.3 - 2)^2 |\n",
       "\n"
      ],
      "text/plain": [
       "  error_symbolic              \n",
       "1 (x[1]*1.4 + x[2]*2.8 - 3)^2 \n",
       "2 (x[1]*5.3 + x[2]*3.6 - 5)^2 \n",
       "3 (x[1]*2.2 + x[2]*4.4 - 8)^2 \n",
       "4 (x[1]*0.2 + x[2]*3.3 - 1)^2 \n",
       "5 (x[1]*3.2 + x[2]*1.1 - 8)^2 \n",
       "6 (x[1]*6.2 + x[2]*2.3 - 10)^2\n",
       "  ahead_error_symbolic                                                                    \n",
       "1 (x[1]*1.4 + x[2]*2.8 - 3)^2, (x[1]*5.3 + x[2]*3.6 - 5)^2, (x[1]*2.2 + x[2]*4.4 - 8)^2   \n",
       "2 (x[1]*5.3 + x[2]*3.6 - 5)^2, (x[1]*2.2 + x[2]*4.4 - 8)^2, (x[1]*0.2 + x[2]*3.3 - 1)^2   \n",
       "3 (x[1]*2.2 + x[2]*4.4 - 8)^2, (x[1]*0.2 + x[2]*3.3 - 1)^2, (x[1]*3.2 + x[2]*1.1 - 8)^2   \n",
       "4 (x[1]*0.2 + x[2]*3.3 - 1)^2 , (x[1]*3.2 + x[2]*1.1 - 8)^2 , (x[1]*6.2 + x[2]*2.3 - 10)^2\n",
       "5 (x[1]*3.2 + x[2]*1.1 - 8)^2 , (x[1]*6.2 + x[2]*2.3 - 10)^2, (x[1]*4.2 + x[2]*2.1 - 5)^2 \n",
       "6 (x[1]*6.2 + x[2]*2.3 - 10)^2, (x[1]*4.2 + x[2]*2.1 - 5)^2 , (x[1]*3.2 + x[2]*6.3 - 2)^2 \n",
       "  ahead_num error_weights   \n",
       "1 3         0.40, 0.45, 0.15\n",
       "2 3         0.40, 0.45, 0.15\n",
       "3 3         0.40, 0.45, 0.15\n",
       "4 3         0.40, 0.45, 0.15\n",
       "5 3         0.40, 0.45, 0.15\n",
       "6 3         0.40, 0.45, 0.15\n",
       "  desired_column                                                                                        \n",
       "1 0.4*(x[1]*1.4 + x[2]*2.8 - 3)^2 + 0.45*(x[1]*5.3 + x[2]*3.6 - 5)^2 + 0.15*(x[1]*2.2 + x[2]*4.4 - 8)^2 \n",
       "2 0.4*(x[1]*5.3 + x[2]*3.6 - 5)^2 + 0.45*(x[1]*2.2 + x[2]*4.4 - 8)^2 + 0.15*(x[1]*0.2 + x[2]*3.3 - 1)^2 \n",
       "3 0.4*(x[1]*2.2 + x[2]*4.4 - 8)^2 + 0.45*(x[1]*0.2 + x[2]*3.3 - 1)^2 + 0.15*(x[1]*3.2 + x[2]*1.1 - 8)^2 \n",
       "4 0.4*(x[1]*0.2 + x[2]*3.3 - 1)^2 + 0.45*(x[1]*3.2 + x[2]*1.1 - 8)^2 + 0.15*(x[1]*6.2 + x[2]*2.3 - 10)^2\n",
       "5 0.4*(x[1]*3.2 + x[2]*1.1 - 8)^2 + 0.45*(x[1]*6.2 + x[2]*2.3 - 10)^2 + 0.15*(x[1]*4.2 + x[2]*2.1 - 5)^2\n",
       "6 0.4*(x[1]*6.2 + x[2]*2.3 - 10)^2 + 0.45*(x[1]*4.2 + x[2]*2.1 - 5)^2 + 0.15*(x[1]*3.2 + x[2]*6.3 - 2)^2"
      ]
     },
     "metadata": {},
     "output_type": "display_data"
    }
   ],
   "source": [
    "df"
   ]
  }
 ],
 "metadata": {
  "kernelspec": {
   "display_name": "R",
   "language": "R",
   "name": "ir"
  },
  "language_info": {
   "codemirror_mode": "r",
   "file_extension": ".r",
   "mimetype": "text/x-r-source",
   "name": "R",
   "pygments_lexer": "r",
   "version": "4.1.2"
  }
 },
 "nbformat": 4,
 "nbformat_minor": 5
}
