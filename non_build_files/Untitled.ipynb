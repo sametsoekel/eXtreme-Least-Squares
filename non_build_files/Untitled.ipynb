{
 "cells": [
  {
   "cell_type": "code",
   "execution_count": 21,
   "id": "d1f6cbcc-d3cc-47bc-8300-e900f6f44d22",
   "metadata": {},
   "outputs": [],
   "source": [
    "dm <- lm(Sepal.Width ~ Petal.Length,iris)"
   ]
  },
  {
   "cell_type": "code",
   "execution_count": 22,
   "id": "e7ed3b85-71b1-49a6-a0df-47ab18cb6df5",
   "metadata": {},
   "outputs": [],
   "source": [
    "pred <- stats::predict(dm,iris)\n",
    "obs <- iris[['Sepal.Width']]\n",
    "\n",
    "residuals <- obs - pred\n",
    "\n",
    "#names(residuals) <- 1:length(residuals)\n",
    "\n",
    "#residuals\n",
    "#dm$residuals <- residuals"
   ]
  },
  {
   "cell_type": "code",
   "execution_count": 26,
   "id": "1109a438-0070-4faa-a036-3382d7c6a589",
   "metadata": {},
   "outputs": [],
   "source": [
    "`-` <- function(x,rng) x>rng[1] & x<rng[2]"
   ]
  },
  {
   "cell_type": "code",
   "execution_count": 27,
   "id": "58f78450-f83c-405d-9fe4-97384b540497",
   "metadata": {},
   "outputs": [
    {
     "data": {
      "text/html": [
       "TRUE"
      ],
      "text/latex": [
       "TRUE"
      ],
      "text/markdown": [
       "TRUE"
      ],
      "text/plain": [
       "[1] TRUE"
      ]
     },
     "metadata": {},
     "output_type": "display_data"
    }
   ],
   "source": [
    "2 - c(1,5)"
   ]
  }
 ],
 "metadata": {
  "kernelspec": {
   "display_name": "R",
   "language": "R",
   "name": "ir"
  },
  "language_info": {
   "codemirror_mode": "r",
   "file_extension": ".r",
   "mimetype": "text/x-r-source",
   "name": "R",
   "pygments_lexer": "r",
   "version": "4.1.2"
  }
 },
 "nbformat": 4,
 "nbformat_minor": 5
}
