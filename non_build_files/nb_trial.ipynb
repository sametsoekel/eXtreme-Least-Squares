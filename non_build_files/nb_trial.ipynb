{
 "cells": [
  {
   "cell_type": "code",
   "execution_count": 97,
   "id": "9d7a3421-ef7e-4705-933e-a6d9a931cfe9",
   "metadata": {},
   "outputs": [],
   "source": [
    "xls.prep <- function(formula,data,dependent_var){\n",
    "    \n",
    "    matrix.baked <- stats::model.matrix.lm(formula,data,na.action = 'na.pass')\n",
    "    \n",
    "    df.baked <- base::as.data.frame(matrix.baked)\n",
    "    \n",
    "    base::rm(matrix.baked)\n",
    "    \n",
    "    df.baked[[dependent_var]] <- data[[dependent_var]]\n",
    "    \n",
    "    if(base::anyNA(df.baked)){\n",
    "\n",
    "        count_na <- base::nrow(df.baked[!stats::complete.cases(df.baked),])\n",
    "        msg_format <- '%s rows with missing data were dropped.'\n",
    "        base::message(base::sprintf(msg_format,count_na))\n",
    "\n",
    "        df.baked <- df.baked[stats::complete.cases(df.baked),]\n",
    "\n",
    "    }\n",
    "\n",
    "    dependent_var_vector <- df.baked[[dependent_var]]\n",
    "\n",
    "    df.baked[[dependent_var]] <- NULL\n",
    "        \n",
    "    varnum <- base::ncol(df.baked)\n",
    "    \n",
    "    varnames <- base::colnames(df.baked)\n",
    "    \n",
    "    coefnames <- base::paste0('x[',1:varnum,']')\n",
    "    \n",
    "    regformat <- base::paste(base::rep('%s*%s',varnum),collapse = ' + ')\n",
    "    \n",
    "    coef_var_match <- NULL\n",
    "    \n",
    "    for(i in 1:varnum){\n",
    "        coef_var_match[i] <- base::sprintf('\"%s\",df.baked[[\"%s\"]]',coefnames[i],varnames[i])\n",
    "    }\n",
    "    \n",
    "    coef_var_match <- base::paste(coef_var_match,collapse = ',')\n",
    "    \n",
    "    symbolic_error_calculation <- base::sprintf('base::sprintf(\"%s\",%s)',regformat,coef_var_match)\n",
    "    \n",
    "    base::eval(base::parse(text = base::sprintf('df.baked[[\"error_symbolic\"]] <- %s',symbolic_error_calculation)))\n",
    "    \n",
    "    df.baked[[\"error_symbolic\"]] <- base::sprintf('(%s - %s)^2',df.baked[[\"error_symbolic\"]],dependent_var_vector)\n",
    "\n",
    "    base::list(data=df.baked,independent_var=varnames)\n",
    "\n",
    "}"
   ]
  },
  {
   "cell_type": "code",
   "execution_count": 98,
   "id": "b3eb4ba9-49db-4556-8d2f-672dc3aa93c1",
   "metadata": {},
   "outputs": [],
   "source": [
    "xls.objfun <- function(data,error_column_name,error_weights,error_ahead_level){\n",
    "    \n",
    "    df <- data\n",
    "    \n",
    "    sample_size <- nrow(df)\n",
    "    \n",
    "    df$ahead_error_symbolic <- base::sapply(\n",
    "      1:sample_size,\n",
    "      function(x) base::paste(df[[error_column_name]][x:min(x+error_ahead_level-1, sample_size)], collapse = \" add \")\n",
    "    )\n",
    "    \n",
    "    df$ahead_num <- sapply(strsplit(df$ahead_error_symbolic,split = ' add '),base::length)\n",
    "    \n",
    "    df <- df[df[['ahead_num']] == error_ahead_level,]\n",
    "    \n",
    "    df$ahead_error_symbolic <- base::strsplit(df$ahead_error_symbolic,' add ')\n",
    "    \n",
    "    new_sample_size <- base::nrow(df)\n",
    "    \n",
    "    df$error_weights <- base::rep(base::list(error_weights),new_sample_size)\n",
    "    \n",
    "    new_error_column <- base::paste0(error_column_name,'_weighted')\n",
    "    \n",
    "    df[[new_error_column]] <- base::mapply(\n",
    "      base::paste,\n",
    "      df$error_weights,\n",
    "      df$ahead_error_symbolic,\n",
    "      sep = \"*\",\n",
    "      collapse = \" + \"\n",
    "    )\n",
    "\n",
    "    sum_of_errors <- base::paste(df[[new_error_column]],collapse = ' + ')\n",
    "    \n",
    "    multivariate_sse <- base::gsub(\"x\\\\[(\\\\d)\\\\]\", \"x\\\\1\", sum_of_errors)\n",
    "    \n",
    "    base::suppressMessages({polynomial_sse <-  mpoly::mp(multivariate_sse, stars = TRUE)})\n",
    "    \n",
    "    base::suppressMessages({objfun <-  base::as.function(polynomial_sse, varorder = base::sort(mpoly::vars(polynomial_sse)))})\n",
    "    \n",
    "    base::return(objfun)\n",
    "}"
   ]
  },
  {
   "cell_type": "code",
   "execution_count": 99,
   "id": "8438b670-9dab-41bc-81dc-2ea66ef8b659",
   "metadata": {},
   "outputs": [],
   "source": [
    "xls.objfun <- function(data,error_column_name,error_weights,error_ahead_level){\n",
    "    \n",
    "    df <- data\n",
    "    \n",
    "    sample_size <- nrow(df)\n",
    "    \n",
    "    df$ahead_error_symbolic <- base::sapply(\n",
    "      1:sample_size,\n",
    "      function(x) base::paste(df[[error_column_name]][x:min(x+error_ahead_level-1, sample_size)], collapse = \" add \")\n",
    "    )\n",
    "    \n",
    "    df$ahead_num <- sapply(strsplit(df$ahead_error_symbolic,split = ' add '),base::length)\n",
    "    \n",
    "    df <- df[df[['ahead_num']] == error_ahead_level,]\n",
    "    \n",
    "    df$ahead_error_symbolic <- base::strsplit(df$ahead_error_symbolic,' add ')\n",
    "    \n",
    "    new_sample_size <- base::nrow(df)\n",
    "    \n",
    "    df$error_weights <- base::rep(base::list(error_weights),new_sample_size)\n",
    "    \n",
    "    new_error_column <- base::paste0(error_column_name,'_weighted')\n",
    "    \n",
    "    df[[new_error_column]] <- base::mapply(\n",
    "      base::paste,\n",
    "      df$error_weights,\n",
    "      df$ahead_error_symbolic,\n",
    "      sep = \"*\",\n",
    "      collapse = \" + \"\n",
    "    )\n",
    "\n",
    "    sum_of_errors <- base::paste(df[[new_error_column]],collapse = ' + ')\n",
    "    \n",
    "    multivariate_sse <- base::gsub(\"x\\\\[(\\\\d)\\\\]\", \"x\\\\1\", sum_of_errors)\n",
    "    \n",
    "    base::suppressMessages({polynomial_sse <-  mpoly::mp(multivariate_sse, stars = TRUE)})\n",
    "    \n",
    "    base::suppressMessages({objfun <-  base::as.function(polynomial_sse, varorder = base::sort(mpoly::vars(polynomial_sse)))})\n",
    "    \n",
    "    base::return(objfun)\n",
    "}"
   ]
  },
  {
   "cell_type": "code",
   "execution_count": 100,
   "id": "e300a45c-48ae-4a3d-ab4e-025052712611",
   "metadata": {},
   "outputs": [
    {
     "name": "stderr",
     "output_type": "stream",
     "text": [
      "42 rows with missing data were dropped.\n",
      "\n"
     ]
    }
   ],
   "source": [
    "df <- datasets::airquality\n",
    "ordered_df <- df[with(df,order(Month,Day)),]\n",
    "model <- xls.fit(Ozone ~ Solar.R + Wind + Temp,ordered_df,error_ahead_level = 4)"
   ]
  },
  {
   "cell_type": "code",
   "execution_count": 101,
   "id": "db9716d7-d178-4357-8ea0-b1905f2427a7",
   "metadata": {},
   "outputs": [
    {
     "name": "stderr",
     "output_type": "stream",
     "text": [
      "42 rows with missing data were dropped.\n",
      "\n"
     ]
    }
   ],
   "source": [
    "df <- datasets::airquality\n",
    "ordered_df <- df[with(df,order(Month,Day)),]\n",
    "model <- xls.fit(Ozone ~ Solar.R + Wind + Temp,ordered_df,error_ahead_level = 4)"
   ]
  },
  {
   "cell_type": "code",
   "execution_count": 102,
   "id": "ddf69f54-7cec-4424-a9d7-f7e0c2bbf887",
   "metadata": {},
   "outputs": [],
   "source": [
    "model2 <- lm(Ozone ~ Solar.R + Wind + Temp,ordered_df)"
   ]
  },
  {
   "cell_type": "code",
   "execution_count": 103,
   "id": "220a30b8-0f94-4caa-a5fe-c4a37d96574e",
   "metadata": {},
   "outputs": [
    {
     "data": {
      "text/plain": [
       "\n",
       "Call:\n",
       "xls.fit(formula = Ozone ~ Solar.R + Wind + Temp, data = ordered_df, \n",
       "    error_weights = c(0.4, 0.3, 0.2, 0.1), error_ahead_level = 4)\n",
       "\n",
       "Coefficients:\n",
       "(Intercept)      Solar.R         Wind         Temp  \n",
       "  -63.25402      0.05742     -3.34202      1.64686  \n"
      ]
     },
     "metadata": {},
     "output_type": "display_data"
    }
   ],
   "source": [
    "model"
   ]
  },
  {
   "cell_type": "code",
   "execution_count": 104,
   "id": "3d0aba8e-8685-4ccb-9c75-6d92f6f30fab",
   "metadata": {},
   "outputs": [
    {
     "data": {
      "text/plain": [
       "\n",
       "Call:\n",
       "lm(formula = Ozone ~ Solar.R + Wind + Temp, data = ordered_df)\n",
       "\n",
       "Coefficients:\n",
       "(Intercept)      Solar.R         Wind         Temp  \n",
       "  -64.34208      0.05982     -3.33359      1.65209  \n"
      ]
     },
     "metadata": {},
     "output_type": "display_data"
    }
   ],
   "source": [
    "model2"
   ]
  }
 ],
 "metadata": {
  "kernelspec": {
   "display_name": "R",
   "language": "R",
   "name": "ir"
  },
  "language_info": {
   "codemirror_mode": "r",
   "file_extension": ".r",
   "mimetype": "text/x-r-source",
   "name": "R",
   "pygments_lexer": "r",
   "version": "4.1.2"
  }
 },
 "nbformat": 4,
 "nbformat_minor": 5
}
