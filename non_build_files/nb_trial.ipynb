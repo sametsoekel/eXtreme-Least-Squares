{
 "cells": [
  {
   "cell_type": "code",
   "execution_count": 103,
   "id": "9d7a3421-ef7e-4705-933e-a6d9a931cfe9",
   "metadata": {},
   "outputs": [],
   "source": [
    "xls.prep <- function(formula,data,dependent_var){\n",
    "    \n",
    "    matrix.baked <- stats::model.matrix(formula,data)\n",
    "    \n",
    "    df.baked <- base::as.data.frame(matrix.baked)\n",
    "    \n",
    "    base::rm(matrix.baked)\n",
    "    \n",
    "    varnum <- base::ncol(df.baked)\n",
    "    \n",
    "    varnames <- base::colnames(df.baked)\n",
    "    \n",
    "    coefnames <- base::paste0('x[',1:varnum,']')\n",
    "    \n",
    "    regformat <- base::paste(base::rep('%s*%s',varnum),collapse = ' + ')\n",
    "    \n",
    "    coef_var_match <- NULL\n",
    "    \n",
    "    for(i in 1:varnum){\n",
    "        coef_var_match[i] <- base::sprintf('\"%s\",df.baked[[\"%s\"]]',coefnames[i],varnames[i])\n",
    "    }\n",
    "    \n",
    "    coef_var_match <- base::paste(coef_var_match,collapse = ',')\n",
    "    \n",
    "    symbolic_error_calculation <- base::sprintf('base::sprintf(\"%s\",%s)',regformat,coef_var_match)\n",
    "    \n",
    "    base::eval(base::parse(text = base::sprintf('df.baked[[\"error_symbolic\"]] <- %s',symbolic_error_calculation)))\n",
    "    \n",
    "    df.baked[[\"error_symbolic\"]] <- base::sprintf('(%s - %s)^2',df.baked[[\"error_symbolic\"]],data[[dependent_var]])\n",
    "\n",
    "    base::list(data=df.baked,independent_var=varnames)\n",
    "\n",
    "}"
   ]
  },
  {
   "cell_type": "code",
   "execution_count": 104,
   "id": "b3eb4ba9-49db-4556-8d2f-672dc3aa93c1",
   "metadata": {},
   "outputs": [],
   "source": [
    "xls.objfun <- function(data,error_column_name,error_weights,error_ahead_level){\n",
    "    \n",
    "    df <- data\n",
    "    \n",
    "    sample_size <- nrow(df)\n",
    "    \n",
    "    df$ahead_error_symbolic <- base::sapply(\n",
    "      1:sample_size,\n",
    "      function(x) base::paste(df[[error_column_name]][x:min(x+error_ahead_level-1, sample_size)], collapse = \" add \")\n",
    "    )\n",
    "    \n",
    "    df$ahead_num <- sapply(strsplit(df$ahead_error_symbolic,split = ' add '),base::length)\n",
    "    \n",
    "    df <- df[df[['ahead_num']] == error_ahead_level,]\n",
    "    \n",
    "    df$ahead_error_symbolic <- base::strsplit(df$ahead_error_symbolic,' add ')\n",
    "    \n",
    "    new_sample_size <- base::nrow(df)\n",
    "    \n",
    "    df$error_weights <- base::rep(base::list(error_weights),new_sample_size)\n",
    "    \n",
    "    new_error_column <- base::paste0(error_column_name,'_weighted')\n",
    "    \n",
    "    df[[new_error_column]] <- base::mapply(\n",
    "      base::paste,\n",
    "      df$error_weights,\n",
    "      df$ahead_error_symbolic,\n",
    "      sep = \"*\",\n",
    "      collapse = \" + \"\n",
    "    )\n",
    "\n",
    "    sum_of_errors <- base::paste(df[[new_error_column]],collapse = ' + ')\n",
    "    \n",
    "    multivariate_sse <- base::gsub(\"x\\\\[(\\\\d)\\\\]\", \"x\\\\1\", sum_of_errors)\n",
    "    \n",
    "    base::suppressMessages({polynomial_sse <-  mpoly::mp(multivariate_sse, stars = TRUE)})\n",
    "    \n",
    "    base::suppressMessages({objfun <-  base::as.function(polynomial_sse, varorder = base::sort(mpoly::vars(polynomial_sse)))})\n",
    "    \n",
    "    base::return(objfun)\n",
    "}"
   ]
  },
  {
   "cell_type": "code",
   "execution_count": 119,
   "id": "8438b670-9dab-41bc-81dc-2ea66ef8b659",
   "metadata": {},
   "outputs": [],
   "source": [
    "xls.fit <- function(formula,\n",
    "                    data,\n",
    "                    error_weights = NULL,\n",
    "                    error_ahead_level=4){\n",
    "    \n",
    "    if(base::nrow(data) < error_ahead_level){\n",
    "        \n",
    "        base::stop('The number of observations must be greater than error ahead level.')\n",
    "        \n",
    "    }\n",
    "    \n",
    "    dependent_var <- base::all.vars(formula)[1]\n",
    "    \n",
    "    if(base::is.null(error_weights)){\n",
    "        \n",
    "        dummy_weights <- base::seq(from = 0,to = 1,length.out = error_ahead_level + 1)\n",
    "        error_weights <- dummy_weights[-1]/base::sum(dummy_weights[-1])\n",
    "        error_weights <- base::rev(error_weights)\n",
    "        base::rm(dummy_weights)\n",
    "        \n",
    "    }else if(base::length(error_weights) != error_ahead_level){\n",
    "        \n",
    "        base::stop('Error weights should have same length with ahead level.')\n",
    "        \n",
    "    }else if(base::sum(error_weights) != 1){\n",
    "        \n",
    "        base::stop('The sum of the error weights must be 1.')\n",
    "        \n",
    "    }\n",
    "    \n",
    "    prepared_obj <- xls.prep(formula,data,dependent_var)\n",
    "    \n",
    "    df <- prepared_obj$data\n",
    "    \n",
    "    if(base::anyNA(df)){\n",
    "        \n",
    "        base::warning('Rows with missing observations are dropped.')\n",
    "        \n",
    "        df <- stats::na.omit(df)\n",
    "        \n",
    "    }\n",
    "    \n",
    "    independent_var <- prepared_obj$independent_var\n",
    "    \n",
    "    initial_solution <- base::rep(0,base::length(independent_var))\n",
    "\n",
    "    objfun <- xls.objfun(data = df,error_column_name = 'error_symbolic',error_weights = error_weights, error_ahead_level = error_ahead_level)\n",
    "    \n",
    "    optimizing_parameters <- stats::optim(par = initial_solution,fn = objfun)\n",
    "    \n",
    "    coefficients <- base::as.data.frame(optimizing_parameters$par)\n",
    "    \n",
    "    base::colnames(coefficients) <- 'coef'\n",
    "    \n",
    "    base::rownames(coefficients) <- independent_var\n",
    "\n",
    "    dummy_model <- stats::lm(formula,data)\n",
    "    \n",
    "    coefficients_vec <- coefficients$coef\n",
    "    \n",
    "    names(coefficients_vec) <- base::rownames(coefficients)\n",
    "    \n",
    "    dummy_model <- stats::lm(formula = formula,data = data)\n",
    "\n",
    "    # Updating Coefficients\n",
    "\n",
    "    dummy_model$coefficients <- coefficients_vec\n",
    "\n",
    "    # Updating Residuals\n",
    "\n",
    "    preds <- stats::predict(dummy_model,data)\n",
    "\n",
    "    obs <- data[[dependent_var]]\n",
    "\n",
    "    residuals <- obs - preds\n",
    "\n",
    "    dummy_model$residuals <- residuals\n",
    "\n",
    "    # Updating Call\n",
    "    \n",
    "    dataname <- base::substitute(data)\n",
    "    \n",
    "    dummy_model$call <- base::call('xls.fit',formula = formula,data = dataname,error_weights = error_weights,error_ahead_level = error_ahead_level)\n",
    "    \n",
    "    base::return(dummy_model)\n",
    "\n",
    "}"
   ]
  },
  {
   "cell_type": "code",
   "execution_count": 109,
   "id": "e300a45c-48ae-4a3d-ab4e-025052712611",
   "metadata": {},
   "outputs": [],
   "source": [
    "a <- xls.fit(Sepal.Length ~ Petal.Width,iris,error_ahead_level = 3)"
   ]
  },
  {
   "cell_type": "code",
   "execution_count": 111,
   "id": "7f12c051-0787-412f-90f5-fa521b809dbc",
   "metadata": {},
   "outputs": [],
   "source": [
    "b <- lm(Sepal.Length ~ Petal.Width,iris)"
   ]
  },
  {
   "cell_type": "code",
   "execution_count": 117,
   "id": "5b89d593-cf32-4eeb-891d-ec31faa13acc",
   "metadata": {},
   "outputs": [
    {
     "name": "stderr",
     "output_type": "stream",
     "text": [
      "Warning message in eval(expr, envir, enclos):\n",
      "“se”\n"
     ]
    }
   ],
   "source": [
    "base::warning('se',call. = 'lm')"
   ]
  },
  {
   "cell_type": "code",
   "execution_count": 123,
   "id": "53d2e911-0c8d-4252-89b1-2127ebe549ef",
   "metadata": {},
   "outputs": [],
   "source": [
    "a$sucuk <- c(2,3,4,5,6,7)"
   ]
  },
  {
   "cell_type": "code",
   "execution_count": 124,
   "id": "bbf29ea6-470f-44ab-8382-126fb67c64f7",
   "metadata": {},
   "outputs": [
    {
     "data": {
      "text/html": [
       "<style>\n",
       ".list-inline {list-style: none; margin:0; padding: 0}\n",
       ".list-inline>li {display: inline-block}\n",
       ".list-inline>li:not(:last-child)::after {content: \"\\00b7\"; padding: 0 .5ex}\n",
       "</style>\n",
       "<ol class=list-inline><li>2</li><li>3</li><li>4</li><li>5</li><li>6</li><li>7</li></ol>\n"
      ],
      "text/latex": [
       "\\begin{enumerate*}\n",
       "\\item 2\n",
       "\\item 3\n",
       "\\item 4\n",
       "\\item 5\n",
       "\\item 6\n",
       "\\item 7\n",
       "\\end{enumerate*}\n"
      ],
      "text/markdown": [
       "1. 2\n",
       "2. 3\n",
       "3. 4\n",
       "4. 5\n",
       "5. 6\n",
       "6. 7\n",
       "\n",
       "\n"
      ],
      "text/plain": [
       "[1] 2 3 4 5 6 7"
      ]
     },
     "metadata": {},
     "output_type": "display_data"
    }
   ],
   "source": [
    "a$sucuk"
   ]
  }
 ],
 "metadata": {
  "kernelspec": {
   "display_name": "R",
   "language": "R",
   "name": "ir"
  },
  "language_info": {
   "codemirror_mode": "r",
   "file_extension": ".r",
   "mimetype": "text/x-r-source",
   "name": "R",
   "pygments_lexer": "r",
   "version": "4.1.2"
  }
 },
 "nbformat": 4,
 "nbformat_minor": 5
}
