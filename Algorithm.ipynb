{
 "cells": [
  {
   "cell_type": "code",
   "execution_count": 11,
   "id": "b0a6cd7d-0402-417f-b77b-79fe6d4f81e1",
   "metadata": {},
   "outputs": [],
   "source": [
    "xls.fit <- function(formula,data,lag_level=1,lag_column = NULL){\n",
    "    \n",
    "    dependent_var <- base::all.vars(formula)[1]\n",
    "    independent_var <- base::all.vars(formula)[-1]\n",
    "    \n",
    "    if(base::is.null(lag_column)){\n",
    "        lag_column <- dependent_var\n",
    "    }\n",
    "    \n",
    "    list(dependent_var,independent_var,lag_column)\n",
    "    \n",
    "}"
   ]
  }
 ],
 "metadata": {
  "kernelspec": {
   "display_name": "R",
   "language": "R",
   "name": "ir"
  },
  "language_info": {
   "codemirror_mode": "r",
   "file_extension": ".r",
   "mimetype": "text/x-r-source",
   "name": "R",
   "pygments_lexer": "r",
   "version": "4.1.2"
  }
 },
 "nbformat": 4,
 "nbformat_minor": 5
}
