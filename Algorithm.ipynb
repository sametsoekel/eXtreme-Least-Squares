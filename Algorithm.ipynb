{
 "cells": [
  {
   "cell_type": "code",
   "execution_count": 30,
   "id": "c79a5795-c1aa-496d-8456-3f82622d77f7",
   "metadata": {},
   "outputs": [],
   "source": [
    "xls.prep <- function(formula,data){\n",
    "    \n",
    "    matrix.baked <- stats::model.matrix(formula,data)\n",
    "    \n",
    "    df.baked <- base::as.data.frame(matrix.baked)\n",
    "    \n",
    "    base::rm(matrix.baked)\n",
    "    \n",
    "    variable_names <- base::names(df.baked)\n",
    "    \n",
    "    squared_names <- base::paste0(variable_names,'_squared')\n",
    "    \n",
    "    for(i in 1:base::length(squared_names)){\n",
    "        df.baked[[squared_names[i]]] <- df.baked[[variable_names[i]]]**2\n",
    "    }\n",
    "    \n",
    "    df.baked\n",
    "}"
   ]
  },
  {
   "cell_type": "code",
   "execution_count": 31,
   "id": "b0a6cd7d-0402-417f-b77b-79fe6d4f81e1",
   "metadata": {},
   "outputs": [],
   "source": [
    "xls.fit <- function(formula,\n",
    "                    data,\n",
    "                    lag_level=1,\n",
    "                    lag_column = NULL,\n",
    "                    error_weights = NULL,\n",
    "                    error_ahead_level=4){\n",
    "    \n",
    "    if(base::nrow(data) < error_ahead_level){\n",
    "        \n",
    "        base::stop('The number of observations must be greater than error ahead level.')\n",
    "        \n",
    "    }\n",
    "    \n",
    "    \n",
    "    dependent_var <- base::all.vars(formula)[1]\n",
    "    independent_var <- base::all.vars(formula)[-1]\n",
    "    \n",
    "    if(base::is.null(lag_column)){\n",
    "        \n",
    "        lag_column <- dependent_var\n",
    "        \n",
    "    }\n",
    "    \n",
    "    if(base::is.null(error_weights)){\n",
    "        \n",
    "        dummy_weights <- base::seq(from = 0,to = 1,length.out = error_ahead_level + 1)\n",
    "        error_weights <- dummy_weights[-1]/base::sum(dummy_weights[-1])\n",
    "        base::rm(dummy_weights)\n",
    "        \n",
    "    }else if(base::length(error_weights) != error_ahead_level){\n",
    "        \n",
    "        base::stop('Error weights should have same length with ahead level.')\n",
    "        \n",
    "    }else if(base::sum(error_weights) != 1){\n",
    "        \n",
    "        base::stop('The sum of the error weights must be 1.')\n",
    "        \n",
    "    }\n",
    "    \n",
    "    #df <- base::as.data.frame(stats::model.matrix(formula,data))\n",
    "    \n",
    "}"
   ]
  }
 ],
 "metadata": {
  "kernelspec": {
   "display_name": "R",
   "language": "R",
   "name": "ir"
  },
  "language_info": {
   "codemirror_mode": "r",
   "file_extension": ".r",
   "mimetype": "text/x-r-source",
   "name": "R",
   "pygments_lexer": "r",
   "version": "4.1.2"
  }
 },
 "nbformat": 4,
 "nbformat_minor": 5
}
