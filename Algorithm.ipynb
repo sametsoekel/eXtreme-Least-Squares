{
 "cells": [
  {
   "cell_type": "code",
   "execution_count": 1,
   "id": "c79a5795-c1aa-496d-8456-3f82622d77f7",
   "metadata": {},
   "outputs": [],
   "source": [
    "xls.prep <- function(formula,data,dependent_var){\n",
    "    \n",
    "    matrix.baked <- stats::model.matrix(formula,data)\n",
    "    \n",
    "    df.baked <- base::as.data.frame(matrix.baked)\n",
    "    \n",
    "    base::rm(matrix.baked)\n",
    "    \n",
    "    varnum <- base::ncol(df.baked)\n",
    "    \n",
    "    varnames <- base::colnames(df.baked)\n",
    "    \n",
    "    coefnames <- base::paste0('x[',1:varnum,']')\n",
    "    \n",
    "    regformat <- base::paste(base::rep('%s*%s',varnum),collapse = ' + ')\n",
    "    \n",
    "    coef_var_match <- NULL\n",
    "    \n",
    "    for(i in 1:varnum){\n",
    "        coef_var_match[i] <- base::sprintf('\"%s\",df.baked[[\"%s\"]]',coefnames[i],varnames[i])\n",
    "    }\n",
    "    \n",
    "    coef_var_match <- base::paste(coef_var_match,collapse = ',')\n",
    "    \n",
    "    symbolic_error_calculation <- base::sprintf('base::sprintf(\"%s\",%s)',regformat,coef_var_match)\n",
    "    \n",
    "    base::eval(base::parse(text = base::sprintf('df.baked[[\"error_symbolic\"]] <- %s',symbolic_error_calculation)))\n",
    "    \n",
    "    df.baked[[\"error_symbolic\"]] <- base::sprintf('(%s - %s)^2',df.baked[[\"error_symbolic\"]],data[[dependent_var]])\n",
    "\n",
    "    base::list(data=df.baked,independent_var=varnames)\n",
    "\n",
    "}"
   ]
  },
  {
   "cell_type": "code",
   "execution_count": 2,
   "id": "57827c7e-18f1-4feb-a344-e391c73207d2",
   "metadata": {},
   "outputs": [],
   "source": [
    "xls.objfun <- function(data,error_column_name,args){\n",
    "    sum_of_errors <- base::paste(data[[error_column_name]],collapse = ' + ')\n",
    "    \n",
    "    base::eval(base::parse(text = base::paste('objfun <- function(', args, ') { return(' , sum_of_errors , ')}', sep='')))\n",
    "    \n",
    "    base::list(objective = objfun)\n",
    "}"
   ]
  },
  {
   "cell_type": "code",
   "execution_count": 3,
   "id": "b0a6cd7d-0402-417f-b77b-79fe6d4f81e1",
   "metadata": {},
   "outputs": [],
   "source": [
    "xls.fit <- function(formula,\n",
    "                    data,\n",
    "                    lag_level=1,\n",
    "                    lag_column = NULL,\n",
    "                    error_weights = NULL,\n",
    "                    error_ahead_level=4){\n",
    "    \n",
    "    if(base::nrow(data) < error_ahead_level){\n",
    "        \n",
    "        base::stop('The number of observations must be greater than error ahead level.')\n",
    "        \n",
    "    }\n",
    "    \n",
    "    \n",
    "    dependent_var <- base::all.vars(formula)[1]\n",
    "    \n",
    "    if(base::is.null(lag_column)){\n",
    "        \n",
    "        lag_column <- dependent_var\n",
    "        \n",
    "    }\n",
    "    \n",
    "    if(base::is.null(error_weights)){\n",
    "        \n",
    "        dummy_weights <- base::seq(from = 0,to = 1,length.out = error_ahead_level + 1)\n",
    "        error_weights <- dummy_weights[-1]/base::sum(dummy_weights[-1])\n",
    "        base::rm(dummy_weights)\n",
    "        \n",
    "    }else if(base::length(error_weights) != error_ahead_level){\n",
    "        \n",
    "        base::stop('Error weights should have same length with ahead level.')\n",
    "        \n",
    "    }else if(base::sum(error_weights) != 1){\n",
    "        \n",
    "        base::stop('The sum of the error weights must be 1.')\n",
    "        \n",
    "    }\n",
    "    \n",
    "    prepared_obj <- xls.prep(formula,data,dependent_var)\n",
    "    \n",
    "    df <- prepared_obj$data\n",
    "    \n",
    "    independent_var <- prepared_obj$independent_var\n",
    "    \n",
    "    initial_solution <- base::rep(0,base::length(independent_var))\n",
    "\n",
    "    objfun_object <- xls.objfun(df,'error_symbolic',args = 'x')\n",
    "    \n",
    "    objfun <- objfun_object$objective\n",
    "    \n",
    "    base::suppressWarnings(optimizing_parameters <- NlcOptim::solnl(X = initial_solution,objfun = objfun))\n",
    "    \n",
    "    coefficients <- base::as.data.frame(optimizing_parameters$par)\n",
    "    \n",
    "    base::colnames(coefficients) <- 'coef'\n",
    "    \n",
    "    coefficients[['term']] <- independent_var\n",
    "    \n",
    "    coefficients\n",
    "\n",
    "}"
   ]
  },
  {
   "cell_type": "code",
   "execution_count": 4,
   "id": "fc551060-5783-4500-9838-b2c88492be27",
   "metadata": {},
   "outputs": [
    {
     "data": {
      "text/html": [
       "<table class=\"dataframe\">\n",
       "<caption>A data.frame: 4 × 1</caption>\n",
       "<thead>\n",
       "\t<tr><th></th><th scope=col>coef(lm(Sepal.Width ~ Petal.Length:Species + Petal.Width - 1, iris))</th></tr>\n",
       "\t<tr><th></th><th scope=col>&lt;dbl&gt;</th></tr>\n",
       "</thead>\n",
       "<tbody>\n",
       "\t<tr><th scope=row>Petal.Width</th><td>0.6891438</td></tr>\n",
       "\t<tr><th scope=row>Petal.Length:Speciessetosa</th><td>2.2017762</td></tr>\n",
       "\t<tr><th scope=row>Petal.Length:Speciesversicolor</th><td>0.4323144</td></tr>\n",
       "\t<tr><th scope=row>Petal.Length:Speciesvirginica</th><td>0.2826475</td></tr>\n",
       "</tbody>\n",
       "</table>\n"
      ],
      "text/latex": [
       "A data.frame: 4 × 1\n",
       "\\begin{tabular}{r|l}\n",
       "  & coef(lm(Sepal.Width \\textasciitilde{} Petal.Length:Species + Petal.Width - 1, iris))\\\\\n",
       "  & <dbl>\\\\\n",
       "\\hline\n",
       "\tPetal.Width & 0.6891438\\\\\n",
       "\tPetal.Length:Speciessetosa & 2.2017762\\\\\n",
       "\tPetal.Length:Speciesversicolor & 0.4323144\\\\\n",
       "\tPetal.Length:Speciesvirginica & 0.2826475\\\\\n",
       "\\end{tabular}\n"
      ],
      "text/markdown": [
       "\n",
       "A data.frame: 4 × 1\n",
       "\n",
       "| <!--/--> | coef(lm(Sepal.Width ~ Petal.Length:Species + Petal.Width - 1, iris)) &lt;dbl&gt; |\n",
       "|---|---|\n",
       "| Petal.Width | 0.6891438 |\n",
       "| Petal.Length:Speciessetosa | 2.2017762 |\n",
       "| Petal.Length:Speciesversicolor | 0.4323144 |\n",
       "| Petal.Length:Speciesvirginica | 0.2826475 |\n",
       "\n"
      ],
      "text/plain": [
       "                               coef(lm(Sepal.Width ~ Petal.Length:Species + Petal.Width - 1, iris))\n",
       "Petal.Width                    0.6891438                                                           \n",
       "Petal.Length:Speciessetosa     2.2017762                                                           \n",
       "Petal.Length:Speciesversicolor 0.4323144                                                           \n",
       "Petal.Length:Speciesvirginica  0.2826475                                                           "
      ]
     },
     "metadata": {},
     "output_type": "display_data"
    }
   ],
   "source": [
    "as.data.frame(coef(lm(Sepal.Width ~ Petal.Length:Species + Petal.Width - 1,iris)))"
   ]
  },
  {
   "cell_type": "code",
   "execution_count": 5,
   "id": "13dea2ae-12ae-45b7-8653-e133c1a899a4",
   "metadata": {},
   "outputs": [
    {
     "data": {
      "text/html": [
       "<table class=\"dataframe\">\n",
       "<caption>A data.frame: 4 × 2</caption>\n",
       "<thead>\n",
       "\t<tr><th scope=col>coef</th><th scope=col>term</th></tr>\n",
       "\t<tr><th scope=col>&lt;dbl&gt;</th><th scope=col>&lt;chr&gt;</th></tr>\n",
       "</thead>\n",
       "<tbody>\n",
       "\t<tr><td>0.6891456</td><td>Petal.Width                   </td></tr>\n",
       "\t<tr><td>2.2017759</td><td>Petal.Length:Speciessetosa    </td></tr>\n",
       "\t<tr><td>0.4323138</td><td>Petal.Length:Speciesversicolor</td></tr>\n",
       "\t<tr><td>0.2826468</td><td>Petal.Length:Speciesvirginica </td></tr>\n",
       "</tbody>\n",
       "</table>\n"
      ],
      "text/latex": [
       "A data.frame: 4 × 2\n",
       "\\begin{tabular}{ll}\n",
       " coef & term\\\\\n",
       " <dbl> & <chr>\\\\\n",
       "\\hline\n",
       "\t 0.6891456 & Petal.Width                   \\\\\n",
       "\t 2.2017759 & Petal.Length:Speciessetosa    \\\\\n",
       "\t 0.4323138 & Petal.Length:Speciesversicolor\\\\\n",
       "\t 0.2826468 & Petal.Length:Speciesvirginica \\\\\n",
       "\\end{tabular}\n"
      ],
      "text/markdown": [
       "\n",
       "A data.frame: 4 × 2\n",
       "\n",
       "| coef &lt;dbl&gt; | term &lt;chr&gt; |\n",
       "|---|---|\n",
       "| 0.6891456 | Petal.Width                    |\n",
       "| 2.2017759 | Petal.Length:Speciessetosa     |\n",
       "| 0.4323138 | Petal.Length:Speciesversicolor |\n",
       "| 0.2826468 | Petal.Length:Speciesvirginica  |\n",
       "\n"
      ],
      "text/plain": [
       "  coef      term                          \n",
       "1 0.6891456 Petal.Width                   \n",
       "2 2.2017759 Petal.Length:Speciessetosa    \n",
       "3 0.4323138 Petal.Length:Speciesversicolor\n",
       "4 0.2826468 Petal.Length:Speciesvirginica "
      ]
     },
     "metadata": {},
     "output_type": "display_data"
    }
   ],
   "source": [
    "xls.fit(Sepal.Width ~ Petal.Length:Species + Petal.Width - 1,iris)"
   ]
  }
 ],
 "metadata": {
  "kernelspec": {
   "display_name": "R",
   "language": "R",
   "name": "ir"
  },
  "language_info": {
   "codemirror_mode": "r",
   "file_extension": ".r",
   "mimetype": "text/x-r-source",
   "name": "R",
   "pygments_lexer": "r",
   "version": "4.1.2"
  }
 },
 "nbformat": 4,
 "nbformat_minor": 5
}
